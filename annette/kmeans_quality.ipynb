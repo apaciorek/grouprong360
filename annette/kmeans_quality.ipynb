{
 "cells": [
  {
   "cell_type": "code",
   "execution_count": 1,
   "metadata": {},
   "outputs": [],
   "source": [
    "%matplotlib inline\n",
    "import matplotlib\n",
    "import matplotlib.pyplot as plt\n",
    "import numpy as np\n",
    "import pandas as pd\n",
    "import sklearn\n",
    "#from __future__ import print_function\n",
    "from sklearn.cluster import KMeans\n",
    "kmeans = KMeans()\n",
    "from PlottingFunctions import plot_inertia, plot_silhouette"
   ]
  },
  {
   "cell_type": "code",
   "execution_count": 2,
   "metadata": {},
   "outputs": [
    {
     "name": "stdout",
     "output_type": "stream",
     "text": [
      "\u001b[34m.\u001b[m\u001b[m/\r\n",
      "\u001b[34m..\u001b[m\u001b[m/\r\n",
      ".DS_Store\r\n",
      ".RData\r\n",
      ".Rhistory\r\n",
      "\u001b[34m.ipynb_checkpoints\u001b[m\u001b[m/\r\n",
      "PlottingFunctions.py\r\n",
      "Untitled.ipynb\r\n",
      "Untitled1.ipynb\r\n",
      "\u001b[34m__pycache__\u001b[m\u001b[m/\r\n",
      "backup_pythonrtranslate.R\r\n",
      "clean_quality_inr.csv\r\n",
      "kmeans_users.ipynb\r\n",
      "new_rf_order_quality_df.csv\r\n",
      "order_train.csv\r\n",
      "prelimEDA.ipynb\r\n",
      "product_df.csv\r\n",
      "python_to_R_translate.R\r\n",
      "quality_df.csv\r\n",
      "quality_featureimportance_randomforest_pre_cleaning.R\r\n",
      "randomforest_featureimportance_qualityorder.ipynb\r\n",
      "randomforest_featureimportance_userorder.ipynb\r\n",
      "rf_order_quality_df.csv\r\n",
      "user_df.csv\r\n",
      "user_featureimportance_randomforest.R\r\n",
      "users_and_orders.csv\r\n",
      "users_and_orders2.csv\r\n",
      "wishlist.R\r\n"
     ]
    }
   ],
   "source": [
    "ls -a"
   ]
  },
  {
   "cell_type": "code",
   "execution_count": 3,
   "metadata": {},
   "outputs": [
    {
     "name": "stdout",
     "output_type": "stream",
     "text": [
      "size of qu_df: (277759, 36)\n"
     ]
    }
   ],
   "source": [
    "# reading in the data\n",
    "\n",
    "qu_df = pd.read_csv(\"new_rf_order_quality_df.csv\")\n",
    "print('size of qu_df:', qu_df.shape)"
   ]
  },
  {
   "cell_type": "code",
   "execution_count": 4,
   "metadata": {},
   "outputs": [
    {
     "data": {
      "text/plain": [
       "Index(['application_type', 'op_type', 'col_type', 'user_loan_experience',\n",
       "       'user_has_car', 'user_social_security', 'qid77', 'user_work_period',\n",
       "       'loan_limit_n', 'op_type_n', 'col_type_n', 'user_loan_experience_n',\n",
       "       'user_has_car_n', 'user_social_security_n', 'qid77_n',\n",
       "       'cash_receipts_n', 'user_income_by_card_n', 'user_work_period_n',\n",
       "       'user_age_n', 'product_type', 'platform', 'spam_score', 'mobile_verify',\n",
       "       'is_paid', 'quality', 'mobile_is_paid', 'mobile_quality',\n",
       "       'standard_type', 'guarantee_type', 'user_income_by_card_bucket',\n",
       "       'application_term_buckets', 'app_limit_buckets', 'date_buckets',\n",
       "       'term_buckets', 'limit_buckets', 'result'],\n",
       "      dtype='object')"
      ]
     },
     "execution_count": 4,
     "metadata": {},
     "output_type": "execute_result"
    }
   ],
   "source": [
    "qu_df.columns"
   ]
  },
  {
   "cell_type": "code",
   "execution_count": null,
   "metadata": {},
   "outputs": [],
   "source": [
    "# only keep columns based on the feature importance from the random forest\n",
    "\n",
    "# kmdf = qu.drop(columns = ['is_paid',\n",
    "#                           'mobile_is_paid',\n",
    "#                           'guarantee_type',\n",
    "#                           'standard_type', \n",
    "#                           'qid77_n', \n",
    "#                           'product_type', \n",
    "#                           'op_type_n', \n",
    "#                           'user_social_security', \n",
    "#                           'user_social_security_n', 'spam_score',   ])"
   ]
  },
  {
   "cell_type": "code",
   "execution_count": 5,
   "metadata": {},
   "outputs": [
    {
     "data": {
      "image/png": "[encoded data removed]",
      "text/plain": [
       "<Figure size 432x288 with 1 Axes>"
      ]
     },
     "metadata": {
      "needs_background": "light"
     },
     "output_type": "display_data"
    }
   ],
   "source": [
    "plot_inertia(kmeans, qu_df, range(1, 10))"
   ]
  },
  {
   "cell_type": "code",
   "execution_count": 6,
   "metadata": {},
   "outputs": [
    {
     "data": {
      "text/plain": [
       "KMeans(algorithm='auto', copy_x=True, init='k-means++', max_iter=300,\n",
       "       n_clusters=2, n_init=10, n_jobs=None, precompute_distances='auto',\n",
       "       random_state=None, tol=0.0001, verbose=0)"
      ]
     },
     "execution_count": 6,
     "metadata": {},
     "output_type": "execute_result"
    }
   ],
   "source": [
    "kmeans.set_params(n_clusters=2)\n",
    "kmeans.fit(qu_df)"
   ]
  },
  {
   "cell_type": "code",
   "execution_count": 7,
   "metadata": {},
   "outputs": [
    {
     "data": {
      "image/png": "[encoded data removed]",
      "text/plain": [
       "<Figure size 432x288 with 1 Axes>"
      ]
     },
     "metadata": {
      "needs_background": "light"
     },
     "output_type": "display_data"
    }
   ],
   "source": [
    "plot_silhouette(kmeans, qu_df)"
   ]
  },
  {
   "cell_type": "code",
   "execution_count": null,
   "metadata": {},
   "outputs": [],
   "source": []
  }
 ],
 "metadata": {
  "kernelspec": {
   "display_name": "Python 3",
   "language": "python",
   "name": "python3"
  },
  "language_info": {
   "codemirror_mode": {
    "name": "ipython",
    "version": 3
   },
   "file_extension": ".py",
   "mimetype": "text/x-python",
   "name": "python",
   "nbconvert_exporter": "python",
   "pygments_lexer": "ipython3",
   "version": "3.7.6"
  }
 },
 "nbformat": 4,
 "nbformat_minor": 4
}
