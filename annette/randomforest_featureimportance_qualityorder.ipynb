{
 "cells": [
  {
   "cell_type": "code",
   "execution_count": 3,
   "metadata": {},
   "outputs": [],
   "source": [
    "%matplotlib inline\n",
    "import matplotlib\n",
    "import matplotlib.pyplot as plt\n",
    "import numpy as np\n",
    "import pandas as pd\n",
    "import sklearn"
   ]
  },
  {
   "cell_type": "code",
   "execution_count": null,
   "metadata": {},
   "outputs": [],
   "source": [
    "# don't forget to import random forest model"
   ]
  },
  {
   "cell_type": "code",
   "execution_count": 34,
   "metadata": {},
   "outputs": [
    {
     "name": "stdout",
     "output_type": "stream",
     "text": [
      "Untitled.ipynb\r\n",
      "clean_quality_inr.csv\r\n",
      "new_rf_order_quality_df.csv\r\n",
      "order_train.csv\r\n",
      "prelimEDA.ipynb\r\n",
      "product_df.csv\r\n",
      "python_to_R_translate.R\r\n",
      "quality_df.csv\r\n",
      "randomforest_featureimportance_qualityorder.ipynb\r\n",
      "rf_order_quality_df.csv\r\n",
      "user_df.csv\r\n"
     ]
    }
   ],
   "source": [
    "ls\n"
   ]
  },
  {
   "cell_type": "code",
   "execution_count": 35,
   "metadata": {},
   "outputs": [
    {
     "name": "stdout",
     "output_type": "stream",
     "text": [
      "size of rf_df: (277759, 36)\n"
     ]
    }
   ],
   "source": [
    "# We train a random forest to determine feature importance based on quality data set\n",
    "# First we load in the data set cleaned from R\n",
    "rf_df = pd.read_csv(\"new_rf_order_quality_df.csv\")\n",
    "print('size of rf_df:', rf_df.shape)"
   ]
  },
  {
   "cell_type": "code",
   "execution_count": 36,
   "metadata": {},
   "outputs": [
    {
     "data": {
      "text/html": [
       "<div>\n",
       "<style scoped>\n",
       "    .dataframe tbody tr th:only-of-type {\n",
       "        vertical-align: middle;\n",
       "    }\n",
       "\n",
       "    .dataframe tbody tr th {\n",
       "        vertical-align: top;\n",
       "    }\n",
       "\n",
       "    .dataframe thead th {\n",
       "        text-align: right;\n",
       "    }\n",
       "</style>\n",
       "<table border=\"1\" class=\"dataframe\">\n",
       "  <thead>\n",
       "    <tr style=\"text-align: right;\">\n",
       "      <th></th>\n",
       "      <th>application_type</th>\n",
       "      <th>op_type</th>\n",
       "      <th>col_type</th>\n",
       "      <th>user_loan_experience</th>\n",
       "      <th>user_has_car</th>\n",
       "      <th>user_social_security</th>\n",
       "      <th>qid77</th>\n",
       "      <th>user_work_period</th>\n",
       "      <th>loan_limit_n</th>\n",
       "      <th>op_type_n</th>\n",
       "      <th>...</th>\n",
       "      <th>mobile_quality</th>\n",
       "      <th>standard_type</th>\n",
       "      <th>guarantee_type</th>\n",
       "      <th>user_income_by_card_bucket</th>\n",
       "      <th>application_term_buckets</th>\n",
       "      <th>app_limit_buckets</th>\n",
       "      <th>date_buckets</th>\n",
       "      <th>term_buckets</th>\n",
       "      <th>limit_buckets</th>\n",
       "      <th>result</th>\n",
       "    </tr>\n",
       "  </thead>\n",
       "  <tbody>\n",
       "    <tr>\n",
       "      <th>0</th>\n",
       "      <td>0</td>\n",
       "      <td>-999</td>\n",
       "      <td>-999</td>\n",
       "      <td>-999</td>\n",
       "      <td>-999</td>\n",
       "      <td>-999</td>\n",
       "      <td>-999</td>\n",
       "      <td>-999</td>\n",
       "      <td>0</td>\n",
       "      <td>0</td>\n",
       "      <td>...</td>\n",
       "      <td>1</td>\n",
       "      <td>-999</td>\n",
       "      <td>-999</td>\n",
       "      <td>-999</td>\n",
       "      <td>10</td>\n",
       "      <td>6</td>\n",
       "      <td>11</td>\n",
       "      <td>48</td>\n",
       "      <td>10</td>\n",
       "      <td>0</td>\n",
       "    </tr>\n",
       "    <tr>\n",
       "      <th>1</th>\n",
       "      <td>0</td>\n",
       "      <td>-999</td>\n",
       "      <td>-999</td>\n",
       "      <td>-999</td>\n",
       "      <td>-999</td>\n",
       "      <td>-999</td>\n",
       "      <td>-999</td>\n",
       "      <td>-999</td>\n",
       "      <td>0</td>\n",
       "      <td>0</td>\n",
       "      <td>...</td>\n",
       "      <td>1</td>\n",
       "      <td>-999</td>\n",
       "      <td>-999</td>\n",
       "      <td>-999</td>\n",
       "      <td>10</td>\n",
       "      <td>6</td>\n",
       "      <td>11</td>\n",
       "      <td>12</td>\n",
       "      <td>10</td>\n",
       "      <td>0</td>\n",
       "    </tr>\n",
       "    <tr>\n",
       "      <th>2</th>\n",
       "      <td>0</td>\n",
       "      <td>-999</td>\n",
       "      <td>-999</td>\n",
       "      <td>-999</td>\n",
       "      <td>-999</td>\n",
       "      <td>-999</td>\n",
       "      <td>-999</td>\n",
       "      <td>-999</td>\n",
       "      <td>0</td>\n",
       "      <td>0</td>\n",
       "      <td>...</td>\n",
       "      <td>1</td>\n",
       "      <td>-999</td>\n",
       "      <td>-999</td>\n",
       "      <td>-999</td>\n",
       "      <td>10</td>\n",
       "      <td>6</td>\n",
       "      <td>11</td>\n",
       "      <td>12</td>\n",
       "      <td>4</td>\n",
       "      <td>0</td>\n",
       "    </tr>\n",
       "    <tr>\n",
       "      <th>3</th>\n",
       "      <td>0</td>\n",
       "      <td>-999</td>\n",
       "      <td>-999</td>\n",
       "      <td>-999</td>\n",
       "      <td>-999</td>\n",
       "      <td>-999</td>\n",
       "      <td>-999</td>\n",
       "      <td>-999</td>\n",
       "      <td>0</td>\n",
       "      <td>0</td>\n",
       "      <td>...</td>\n",
       "      <td>1</td>\n",
       "      <td>-999</td>\n",
       "      <td>-999</td>\n",
       "      <td>-999</td>\n",
       "      <td>10</td>\n",
       "      <td>6</td>\n",
       "      <td>11</td>\n",
       "      <td>24</td>\n",
       "      <td>10</td>\n",
       "      <td>0</td>\n",
       "    </tr>\n",
       "    <tr>\n",
       "      <th>4</th>\n",
       "      <td>0</td>\n",
       "      <td>-999</td>\n",
       "      <td>-999</td>\n",
       "      <td>-999</td>\n",
       "      <td>-999</td>\n",
       "      <td>-999</td>\n",
       "      <td>-999</td>\n",
       "      <td>-999</td>\n",
       "      <td>0</td>\n",
       "      <td>0</td>\n",
       "      <td>...</td>\n",
       "      <td>1</td>\n",
       "      <td>-999</td>\n",
       "      <td>-999</td>\n",
       "      <td>-999</td>\n",
       "      <td>10</td>\n",
       "      <td>6</td>\n",
       "      <td>11</td>\n",
       "      <td>12</td>\n",
       "      <td>101</td>\n",
       "      <td>0</td>\n",
       "    </tr>\n",
       "  </tbody>\n",
       "</table>\n",
       "<p>5 rows × 36 columns</p>\n",
       "</div>"
      ],
      "text/plain": [
       "   application_type  op_type  col_type  user_loan_experience  user_has_car  \\\n",
       "0                 0     -999      -999                  -999          -999   \n",
       "1                 0     -999      -999                  -999          -999   \n",
       "2                 0     -999      -999                  -999          -999   \n",
       "3                 0     -999      -999                  -999          -999   \n",
       "4                 0     -999      -999                  -999          -999   \n",
       "\n",
       "   user_social_security  qid77  user_work_period  loan_limit_n  op_type_n  \\\n",
       "0                  -999   -999              -999             0          0   \n",
       "1                  -999   -999              -999             0          0   \n",
       "2                  -999   -999              -999             0          0   \n",
       "3                  -999   -999              -999             0          0   \n",
       "4                  -999   -999              -999             0          0   \n",
       "\n",
       "   ...  mobile_quality  standard_type  guarantee_type  \\\n",
       "0  ...               1           -999            -999   \n",
       "1  ...               1           -999            -999   \n",
       "2  ...               1           -999            -999   \n",
       "3  ...               1           -999            -999   \n",
       "4  ...               1           -999            -999   \n",
       "\n",
       "   user_income_by_card_bucket  application_term_buckets  app_limit_buckets  \\\n",
       "0                        -999                        10                  6   \n",
       "1                        -999                        10                  6   \n",
       "2                        -999                        10                  6   \n",
       "3                        -999                        10                  6   \n",
       "4                        -999                        10                  6   \n",
       "\n",
       "   date_buckets  term_buckets  limit_buckets  result  \n",
       "0            11            48             10       0  \n",
       "1            11            12             10       0  \n",
       "2            11            12              4       0  \n",
       "3            11            24             10       0  \n",
       "4            11            12            101       0  \n",
       "\n",
       "[5 rows x 36 columns]"
      ]
     },
     "execution_count": 36,
     "metadata": {},
     "output_type": "execute_result"
    }
   ],
   "source": [
    "rf_df.head()"
   ]
  },
  {
   "cell_type": "code",
   "execution_count": 9,
   "metadata": {},
   "outputs": [],
   "source": [
    "from sklearn.ensemble import RandomForestClassifier\n",
    "from sklearn.model_selection import GridSearchCV"
   ]
  },
  {
   "cell_type": "code",
   "execution_count": 26,
   "metadata": {},
   "outputs": [],
   "source": [
    "randomForest = RandomForestClassifier()"
   ]
  },
  {
   "cell_type": "code",
   "execution_count": 16,
   "metadata": {},
   "outputs": [
    {
     "data": {
      "text/html": [
       "<div>\n",
       "<style scoped>\n",
       "    .dataframe tbody tr th:only-of-type {\n",
       "        vertical-align: middle;\n",
       "    }\n",
       "\n",
       "    .dataframe tbody tr th {\n",
       "        vertical-align: top;\n",
       "    }\n",
       "\n",
       "    .dataframe thead th {\n",
       "        text-align: right;\n",
       "    }\n",
       "</style>\n",
       "<table border=\"1\" class=\"dataframe\">\n",
       "  <thead>\n",
       "    <tr style=\"text-align: right;\">\n",
       "      <th></th>\n",
       "      <th>application_type</th>\n",
       "      <th>op_type</th>\n",
       "      <th>col_type</th>\n",
       "      <th>user_loan_experience</th>\n",
       "      <th>user_has_car</th>\n",
       "      <th>user_social_security</th>\n",
       "      <th>qid77</th>\n",
       "      <th>user_work_period</th>\n",
       "      <th>loan_limit_n</th>\n",
       "      <th>op_type_n</th>\n",
       "      <th>...</th>\n",
       "      <th>mobile_is_paid</th>\n",
       "      <th>mobile_quality</th>\n",
       "      <th>standard_type</th>\n",
       "      <th>guarantee_type</th>\n",
       "      <th>user_income_by_card_bucket</th>\n",
       "      <th>application_term_buckets</th>\n",
       "      <th>app_limit_buckets</th>\n",
       "      <th>date_buckets</th>\n",
       "      <th>term_buckets</th>\n",
       "      <th>limit_buckets</th>\n",
       "    </tr>\n",
       "  </thead>\n",
       "  <tbody>\n",
       "    <tr>\n",
       "      <th>0</th>\n",
       "      <td>0</td>\n",
       "      <td>-999</td>\n",
       "      <td>-999</td>\n",
       "      <td>-999</td>\n",
       "      <td>-999</td>\n",
       "      <td>-999</td>\n",
       "      <td>-999</td>\n",
       "      <td>-999</td>\n",
       "      <td>0</td>\n",
       "      <td>0</td>\n",
       "      <td>...</td>\n",
       "      <td>0</td>\n",
       "      <td>1</td>\n",
       "      <td>-999</td>\n",
       "      <td>-999</td>\n",
       "      <td>unknown</td>\n",
       "      <td>&lt; 10</td>\n",
       "      <td>&lt; 6</td>\n",
       "      <td>time 11</td>\n",
       "      <td>term 48</td>\n",
       "      <td>&lt;10</td>\n",
       "    </tr>\n",
       "    <tr>\n",
       "      <th>1</th>\n",
       "      <td>0</td>\n",
       "      <td>-999</td>\n",
       "      <td>-999</td>\n",
       "      <td>-999</td>\n",
       "      <td>-999</td>\n",
       "      <td>-999</td>\n",
       "      <td>-999</td>\n",
       "      <td>-999</td>\n",
       "      <td>0</td>\n",
       "      <td>0</td>\n",
       "      <td>...</td>\n",
       "      <td>0</td>\n",
       "      <td>1</td>\n",
       "      <td>-999</td>\n",
       "      <td>-999</td>\n",
       "      <td>unknown</td>\n",
       "      <td>&lt; 10</td>\n",
       "      <td>&lt; 6</td>\n",
       "      <td>time 11</td>\n",
       "      <td>term 12</td>\n",
       "      <td>&lt;10</td>\n",
       "    </tr>\n",
       "    <tr>\n",
       "      <th>2</th>\n",
       "      <td>0</td>\n",
       "      <td>-999</td>\n",
       "      <td>-999</td>\n",
       "      <td>-999</td>\n",
       "      <td>-999</td>\n",
       "      <td>-999</td>\n",
       "      <td>-999</td>\n",
       "      <td>-999</td>\n",
       "      <td>0</td>\n",
       "      <td>0</td>\n",
       "      <td>...</td>\n",
       "      <td>0</td>\n",
       "      <td>1</td>\n",
       "      <td>-999</td>\n",
       "      <td>-999</td>\n",
       "      <td>unknown</td>\n",
       "      <td>&lt; 10</td>\n",
       "      <td>&lt; 6</td>\n",
       "      <td>time 11</td>\n",
       "      <td>term 12</td>\n",
       "      <td>&lt; 4</td>\n",
       "    </tr>\n",
       "    <tr>\n",
       "      <th>3</th>\n",
       "      <td>0</td>\n",
       "      <td>-999</td>\n",
       "      <td>-999</td>\n",
       "      <td>-999</td>\n",
       "      <td>-999</td>\n",
       "      <td>-999</td>\n",
       "      <td>-999</td>\n",
       "      <td>-999</td>\n",
       "      <td>0</td>\n",
       "      <td>0</td>\n",
       "      <td>...</td>\n",
       "      <td>0</td>\n",
       "      <td>1</td>\n",
       "      <td>-999</td>\n",
       "      <td>-999</td>\n",
       "      <td>unknown</td>\n",
       "      <td>&lt; 10</td>\n",
       "      <td>&lt; 6</td>\n",
       "      <td>time 11</td>\n",
       "      <td>term 24</td>\n",
       "      <td>&lt;10</td>\n",
       "    </tr>\n",
       "    <tr>\n",
       "      <th>4</th>\n",
       "      <td>0</td>\n",
       "      <td>-999</td>\n",
       "      <td>-999</td>\n",
       "      <td>-999</td>\n",
       "      <td>-999</td>\n",
       "      <td>-999</td>\n",
       "      <td>-999</td>\n",
       "      <td>-999</td>\n",
       "      <td>0</td>\n",
       "      <td>0</td>\n",
       "      <td>...</td>\n",
       "      <td>0</td>\n",
       "      <td>1</td>\n",
       "      <td>-999</td>\n",
       "      <td>-999</td>\n",
       "      <td>unknown</td>\n",
       "      <td>&lt; 10</td>\n",
       "      <td>&lt; 6</td>\n",
       "      <td>time 11</td>\n",
       "      <td>term 12</td>\n",
       "      <td>&lt;101</td>\n",
       "    </tr>\n",
       "    <tr>\n",
       "      <th>...</th>\n",
       "      <td>...</td>\n",
       "      <td>...</td>\n",
       "      <td>...</td>\n",
       "      <td>...</td>\n",
       "      <td>...</td>\n",
       "      <td>...</td>\n",
       "      <td>...</td>\n",
       "      <td>...</td>\n",
       "      <td>...</td>\n",
       "      <td>...</td>\n",
       "      <td>...</td>\n",
       "      <td>...</td>\n",
       "      <td>...</td>\n",
       "      <td>...</td>\n",
       "      <td>...</td>\n",
       "      <td>...</td>\n",
       "      <td>...</td>\n",
       "      <td>...</td>\n",
       "      <td>...</td>\n",
       "      <td>...</td>\n",
       "      <td>...</td>\n",
       "    </tr>\n",
       "    <tr>\n",
       "      <th>277754</th>\n",
       "      <td>0</td>\n",
       "      <td>-999</td>\n",
       "      <td>-999</td>\n",
       "      <td>-999</td>\n",
       "      <td>-999</td>\n",
       "      <td>-999</td>\n",
       "      <td>-999</td>\n",
       "      <td>-999</td>\n",
       "      <td>5</td>\n",
       "      <td>2</td>\n",
       "      <td>...</td>\n",
       "      <td>0</td>\n",
       "      <td>1</td>\n",
       "      <td>-999</td>\n",
       "      <td>-999</td>\n",
       "      <td>unknown</td>\n",
       "      <td>&lt; 10</td>\n",
       "      <td>&lt; 6</td>\n",
       "      <td>time 14</td>\n",
       "      <td>term 12</td>\n",
       "      <td>&lt;20</td>\n",
       "    </tr>\n",
       "    <tr>\n",
       "      <th>277755</th>\n",
       "      <td>0</td>\n",
       "      <td>-999</td>\n",
       "      <td>-999</td>\n",
       "      <td>-999</td>\n",
       "      <td>-999</td>\n",
       "      <td>-999</td>\n",
       "      <td>-999</td>\n",
       "      <td>-999</td>\n",
       "      <td>2</td>\n",
       "      <td>1</td>\n",
       "      <td>...</td>\n",
       "      <td>0</td>\n",
       "      <td>1</td>\n",
       "      <td>-999</td>\n",
       "      <td>-999</td>\n",
       "      <td>unknown</td>\n",
       "      <td>&lt; 10</td>\n",
       "      <td>&lt; 6</td>\n",
       "      <td>time 14</td>\n",
       "      <td>term 12</td>\n",
       "      <td>&lt;10</td>\n",
       "    </tr>\n",
       "    <tr>\n",
       "      <th>277756</th>\n",
       "      <td>0</td>\n",
       "      <td>-999</td>\n",
       "      <td>-999</td>\n",
       "      <td>-999</td>\n",
       "      <td>-999</td>\n",
       "      <td>-999</td>\n",
       "      <td>-999</td>\n",
       "      <td>-999</td>\n",
       "      <td>2</td>\n",
       "      <td>1</td>\n",
       "      <td>...</td>\n",
       "      <td>0</td>\n",
       "      <td>1</td>\n",
       "      <td>-999</td>\n",
       "      <td>-999</td>\n",
       "      <td>unknown</td>\n",
       "      <td>&lt; 10</td>\n",
       "      <td>&lt; 6</td>\n",
       "      <td>time 15</td>\n",
       "      <td>term 12</td>\n",
       "      <td>&lt;10</td>\n",
       "    </tr>\n",
       "    <tr>\n",
       "      <th>277757</th>\n",
       "      <td>9</td>\n",
       "      <td>4</td>\n",
       "      <td>0</td>\n",
       "      <td>1</td>\n",
       "      <td>5</td>\n",
       "      <td>0</td>\n",
       "      <td>3</td>\n",
       "      <td>12</td>\n",
       "      <td>4</td>\n",
       "      <td>1</td>\n",
       "      <td>...</td>\n",
       "      <td>0</td>\n",
       "      <td>0</td>\n",
       "      <td>1</td>\n",
       "      <td>2</td>\n",
       "      <td>under 1000</td>\n",
       "      <td>&lt; 20</td>\n",
       "      <td>&lt; 6</td>\n",
       "      <td>time 14</td>\n",
       "      <td>less than 100</td>\n",
       "      <td>&lt; 4</td>\n",
       "    </tr>\n",
       "    <tr>\n",
       "      <th>277758</th>\n",
       "      <td>9</td>\n",
       "      <td>2</td>\n",
       "      <td>12</td>\n",
       "      <td>1</td>\n",
       "      <td>0</td>\n",
       "      <td>0</td>\n",
       "      <td>3</td>\n",
       "      <td>-999</td>\n",
       "      <td>0</td>\n",
       "      <td>1</td>\n",
       "      <td>...</td>\n",
       "      <td>0</td>\n",
       "      <td>1</td>\n",
       "      <td>1</td>\n",
       "      <td>2</td>\n",
       "      <td>unknown</td>\n",
       "      <td>&lt; 20</td>\n",
       "      <td>&lt; 6</td>\n",
       "      <td>time 15</td>\n",
       "      <td>term 12</td>\n",
       "      <td>&lt;10</td>\n",
       "    </tr>\n",
       "  </tbody>\n",
       "</table>\n",
       "<p>277759 rows × 35 columns</p>\n",
       "</div>"
      ],
      "text/plain": [
       "        application_type  op_type  col_type  user_loan_experience  \\\n",
       "0                      0     -999      -999                  -999   \n",
       "1                      0     -999      -999                  -999   \n",
       "2                      0     -999      -999                  -999   \n",
       "3                      0     -999      -999                  -999   \n",
       "4                      0     -999      -999                  -999   \n",
       "...                  ...      ...       ...                   ...   \n",
       "277754                 0     -999      -999                  -999   \n",
       "277755                 0     -999      -999                  -999   \n",
       "277756                 0     -999      -999                  -999   \n",
       "277757                 9        4         0                     1   \n",
       "277758                 9        2        12                     1   \n",
       "\n",
       "        user_has_car  user_social_security  qid77  user_work_period  \\\n",
       "0               -999                  -999   -999              -999   \n",
       "1               -999                  -999   -999              -999   \n",
       "2               -999                  -999   -999              -999   \n",
       "3               -999                  -999   -999              -999   \n",
       "4               -999                  -999   -999              -999   \n",
       "...              ...                   ...    ...               ...   \n",
       "277754          -999                  -999   -999              -999   \n",
       "277755          -999                  -999   -999              -999   \n",
       "277756          -999                  -999   -999              -999   \n",
       "277757             5                     0      3                12   \n",
       "277758             0                     0      3              -999   \n",
       "\n",
       "        loan_limit_n  op_type_n  ...  mobile_is_paid  mobile_quality  \\\n",
       "0                  0          0  ...               0               1   \n",
       "1                  0          0  ...               0               1   \n",
       "2                  0          0  ...               0               1   \n",
       "3                  0          0  ...               0               1   \n",
       "4                  0          0  ...               0               1   \n",
       "...              ...        ...  ...             ...             ...   \n",
       "277754             5          2  ...               0               1   \n",
       "277755             2          1  ...               0               1   \n",
       "277756             2          1  ...               0               1   \n",
       "277757             4          1  ...               0               0   \n",
       "277758             0          1  ...               0               1   \n",
       "\n",
       "        standard_type  guarantee_type  user_income_by_card_bucket  \\\n",
       "0                -999            -999                     unknown   \n",
       "1                -999            -999                     unknown   \n",
       "2                -999            -999                     unknown   \n",
       "3                -999            -999                     unknown   \n",
       "4                -999            -999                     unknown   \n",
       "...               ...             ...                         ...   \n",
       "277754           -999            -999                     unknown   \n",
       "277755           -999            -999                     unknown   \n",
       "277756           -999            -999                     unknown   \n",
       "277757              1               2                  under 1000   \n",
       "277758              1               2                     unknown   \n",
       "\n",
       "        application_term_buckets  app_limit_buckets  date_buckets  \\\n",
       "0                           < 10                < 6       time 11   \n",
       "1                           < 10                < 6       time 11   \n",
       "2                           < 10                < 6       time 11   \n",
       "3                           < 10                < 6       time 11   \n",
       "4                           < 10                < 6       time 11   \n",
       "...                          ...                ...           ...   \n",
       "277754                      < 10                < 6       time 14   \n",
       "277755                      < 10                < 6       time 14   \n",
       "277756                      < 10                < 6       time 15   \n",
       "277757                      < 20                < 6       time 14   \n",
       "277758                      < 20                < 6       time 15   \n",
       "\n",
       "         term_buckets  limit_buckets  \n",
       "0             term 48            <10  \n",
       "1             term 12            <10  \n",
       "2             term 12            < 4  \n",
       "3             term 24            <10  \n",
       "4             term 12           <101  \n",
       "...               ...            ...  \n",
       "277754        term 12            <20  \n",
       "277755        term 12            <10  \n",
       "277756        term 12            <10  \n",
       "277757  less than 100            < 4  \n",
       "277758        term 12            <10  \n",
       "\n",
       "[277759 rows x 35 columns]"
      ]
     },
     "execution_count": 16,
     "metadata": {},
     "output_type": "execute_result"
    }
   ],
   "source": [
    "rf_df.iloc[:, 0:35]"
   ]
  },
  {
   "cell_type": "code",
   "execution_count": 37,
   "metadata": {},
   "outputs": [],
   "source": [
    "rf_data = rf_df.iloc[:, 0:35]\n",
    "rf_target = rf_df.iloc[:, 35]"
   ]
  },
  {
   "cell_type": "code",
   "execution_count": 19,
   "metadata": {},
   "outputs": [],
   "source": [
    "from sklearn.model_selection import train_test_split"
   ]
  },
  {
   "cell_type": "code",
   "execution_count": 38,
   "metadata": {},
   "outputs": [],
   "source": [
    "X_train, X_test, y_train, y_test = train_test_split(rf_data, rf_target, test_size=0.2, random_state=0)"
   ]
  },
  {
   "cell_type": "code",
   "execution_count": 41,
   "metadata": {},
   "outputs": [
    {
     "name": "stdout",
     "output_type": "stream",
     "text": [
      "CPU times: user 27.8 s, sys: 498 ms, total: 28.3 s\n",
      "Wall time: 29.5 s\n",
      "The training error is: 0.03221\n",
      "The test     error is: 0.14491\n"
     ]
    }
   ],
   "source": [
    "randomForest.set_params(random_state=0)\n",
    "\n",
    "%time randomForest.fit(X_train, y_train) \n",
    "    \n",
    "print(\"The training error is: %.5f\" % (1 - randomForest.score(X_train, y_train)))\n",
    "print(\"The test     error is: %.5f\" % (1 - randomForest.score(X_test, y_test)))"
   ]
  },
  {
   "cell_type": "code",
   "execution_count": 65,
   "metadata": {},
   "outputs": [
    {
     "data": {
      "text/plain": [
       "[b'guarantee_', b'standard_t', b'is_paid', b'product_ty', b'op_type_n']"
      ]
     },
     "execution_count": 65,
     "metadata": {},
     "output_type": "execute_result"
    }
   ],
   "source": [
    "feature_importance = list(zip(rf_data.columns, randomForest.feature_importances_))\n",
    "dtype = [('feature', 'S10'), ('importance', 'float')]\n",
    "feature_importance = np.array(feature_importance, dtype=dtype)\n",
    "feature_sort = np.sort(feature_importance, order='importance')#[::-1]\n",
    "[i for (i, j) in feature_sort[0:5]]"
   ]
  },
  {
   "cell_type": "code",
   "execution_count": 66,
   "metadata": {},
   "outputs": [
    {
     "name": "stdout",
     "output_type": "stream",
     "text": [
      "(b'guarantee_', b'standard_t', b'is_paid', b'product_ty', b'op_type_n', b'qid77_n', b'mobile_is_', b'spam_score', b'user_socia', b'user_has_c', b'user_work_', b'qid77', b'user_socia', b'col_type_n', b'op_type', b'platform', b'user_loan_', b'mobile_qua', b'user_incom', b'mobile_ver', b'cash_recei', b'user_incom', b'quality', b'applicatio', b'user_age_n', b'user_has_c', b'applicatio', b'loan_limit', b'user_loan_', b'app_limit_', b'user_work_', b'col_type', b'term_bucke', b'limit_buck', b'date_bucke')\n",
      "(0.010247056291000284, 0.010361993491126757, 0.011449636668235676, 0.011604365048101238, 0.012324616617410144, 0.012459569490259293, 0.012928246208761913, 0.014286907445597314, 0.015136894120001325, 0.016226231450070263, 0.0170805264843914, 0.01729521822808493, 0.017861698383343467, 0.019272274103162425, 0.01934826709441654, 0.020306807656738632, 0.021106507413779688, 0.021315606139099063, 0.027944821758944843, 0.028499288407020967, 0.03028637539404282, 0.030738001986245957, 0.03584783896268404, 0.03760128970707032, 0.03844534158160412, 0.0387318344026612, 0.03953425504511079, 0.040158618159789744, 0.046627357483549764, 0.04793951084529507, 0.048588871238574194, 0.049846145115617725, 0.055076093905941315, 0.05702951325936826, 0.06649242041289863)\n"
     ]
    },
    {
     "data": {
      "text/plain": [
       "<BarContainer object of 35 artists>"
      ]
     },
     "execution_count": 66,
     "metadata": {},
     "output_type": "execute_result"
    },
    {
     "data": {
      "image/png": "[encoded data removed]",
      "text/plain": [
       "<Figure size 1296x1296 with 1 Axes>"
      ]
     },
     "metadata": {
      "needs_background": "light"
     },
     "output_type": "display_data"
    }
   ],
   "source": [
    "featureNames, featureScores = zip(*list(feature_sort))\n",
    "print(featureNames)\n",
    "print(featureScores)\n",
    "plt.figure(figsize=(18,18))\n",
    "plt.barh(range(len(featureScores)), featureScores, tick_label=featureNames)\n",
    "# plt.figure(figsize = (20,20))"
   ]
  },
  {
   "cell_type": "code",
   "execution_count": 50,
   "metadata": {},
   "outputs": [],
   "source": [
    "grid_para_forest = {\n",
    "    'criterion': ['gini', 'entropy'],\n",
    "    'max_depth': range(1, 31),\n",
    "    'n_estimators': range(10, 110, 10)\n",
    "}"
   ]
  },
  {
   "cell_type": "code",
   "execution_count": 51,
   "metadata": {},
   "outputs": [
    {
     "name": "stdout",
     "output_type": "stream",
     "text": [
      "CPU times: user 44.8 s, sys: 7.04 s, total: 51.8 s\n",
      "Wall time: 5h 3min 50s\n"
     ]
    },
    {
     "data": {
      "text/plain": [
       "GridSearchCV(cv=5, error_score=nan,\n",
       "             estimator=RandomForestClassifier(bootstrap=True, ccp_alpha=0.0,\n",
       "                                              class_weight=None,\n",
       "                                              criterion='gini', max_depth=None,\n",
       "                                              max_features='auto',\n",
       "                                              max_leaf_nodes=None,\n",
       "                                              max_samples=None,\n",
       "                                              min_impurity_decrease=0.0,\n",
       "                                              min_impurity_split=None,\n",
       "                                              min_samples_leaf=1,\n",
       "                                              min_samples_split=2,\n",
       "                                              min_weight_fraction_leaf=0.0,\n",
       "                                              n_estimators=100, n_jobs=None,\n",
       "                                              oob_score=False, random_state=0,\n",
       "                                              verbose=0, warm_start=False),\n",
       "             iid='deprecated', n_jobs=-1,\n",
       "             param_grid={'criterion': ['gini', 'entropy'],\n",
       "                         'max_depth': range(1, 31),\n",
       "                         'n_estimators': range(10, 110, 10)},\n",
       "             pre_dispatch='2*n_jobs', refit=True, return_train_score=False,\n",
       "             scoring='accuracy', verbose=0)"
      ]
     },
     "execution_count": 51,
     "metadata": {},
     "output_type": "execute_result"
    }
   ],
   "source": [
    "grid_search_forest = GridSearchCV(randomForest, grid_para_forest, scoring='accuracy', cv=5, n_jobs=-1)\n",
    "%time grid_search_forest.fit(X_train, y_train)"
   ]
  },
  {
   "cell_type": "code",
   "execution_count": 52,
   "metadata": {},
   "outputs": [
    {
     "data": {
      "text/plain": [
       "{'criterion': 'gini', 'max_depth': 29, 'n_estimators': 90}"
      ]
     },
     "execution_count": 52,
     "metadata": {},
     "output_type": "execute_result"
    }
   ],
   "source": [
    "grid_search_forest.best_params_"
   ]
  },
  {
   "cell_type": "code",
   "execution_count": 53,
   "metadata": {},
   "outputs": [
    {
     "data": {
      "text/plain": [
       "0.8545680438269606"
      ]
     },
     "execution_count": 53,
     "metadata": {},
     "output_type": "execute_result"
    }
   ],
   "source": [
    "grid_search_forest.best_score_"
   ]
  },
  {
   "cell_type": "code",
   "execution_count": 54,
   "metadata": {},
   "outputs": [
    {
     "name": "stdout",
     "output_type": "stream",
     "text": [
      "The training error is: 0.06428\n",
      "The test     error is: 0.14289\n"
     ]
    }
   ],
   "source": [
    "# get the training/test errors\n",
    "print(\"The training error is: %.5f\" % (1 - grid_search_forest.best_estimator_.score(X_train, y_train)))\n",
    "print(\"The test     error is: %.5f\" % (1 - grid_search_forest.best_estimator_.score(X_test, y_test)))"
   ]
  },
  {
   "cell_type": "code",
   "execution_count": 61,
   "metadata": {},
   "outputs": [],
   "source": [
    "# feature_importance = list(zip(rf_data.columns, randomForest.feature_importances_))\n",
    "# dtype = [('feature', 'S10'), ('importance', 'float')]\n",
    "# feature_importance = np.array(feature_importance, dtype=dtype)\n",
    "# feature_sort = np.sort(feature_importance, order='importance')[::-1]\n",
    "# [i for (i, j) in feature_sort[0:5]]"
   ]
  },
  {
   "cell_type": "code",
   "execution_count": 62,
   "metadata": {},
   "outputs": [],
   "source": [
    "# featureNames, featureScores = zip(*list(feature_sort))\n",
    "# plt.figure(figsize=(18,18))\n",
    "# plt.barh(range(len(featureScores)), featureScores, tick_label=featureNames)\n",
    "# plt.title('feature importance')"
   ]
  },
  {
   "cell_type": "code",
   "execution_count": 67,
   "metadata": {},
   "outputs": [
    {
     "data": {
      "text/plain": [
       "array([(b'is_paid', 0.01214027), (b'mobile_is_', 0.0130857 ),\n",
       "       (b'guarantee_', 0.01319542), (b'standard_t', 0.01319712),\n",
       "       (b'qid77_n', 0.01398787), (b'product_ty', 0.01425143),\n",
       "       (b'op_type_n', 0.01542239), (b'user_socia', 0.01588555),\n",
       "       (b'spam_score', 0.01667038), (b'user_socia', 0.01833034),\n",
       "       (b'user_has_c', 0.01835341), (b'platform', 0.01896564),\n",
       "       (b'user_work_', 0.01937582), (b'qid77', 0.01970337),\n",
       "       (b'mobile_qua', 0.02096914), (b'op_type', 0.02105548),\n",
       "       (b'col_type_n', 0.02202266), (b'user_loan_', 0.02274813),\n",
       "       (b'mobile_ver', 0.02684735), (b'user_incom', 0.03114535),\n",
       "       (b'user_incom', 0.03150368), (b'cash_recei', 0.03174006),\n",
       "       (b'quality', 0.03373191), (b'applicatio', 0.03385229),\n",
       "       (b'user_has_c', 0.03452102), (b'user_age_n', 0.03620148),\n",
       "       (b'applicatio', 0.04055923), (b'user_loan_', 0.04101164),\n",
       "       (b'user_work_', 0.04105879), (b'loan_limit', 0.04169258),\n",
       "       (b'app_limit_', 0.04339043), (b'col_type', 0.04467156),\n",
       "       (b'limit_buck', 0.05649443), (b'term_bucke', 0.05789605),\n",
       "       (b'date_bucke', 0.06432201)],\n",
       "      dtype=[('feature', 'S10'), ('importance', '<f8')])"
      ]
     },
     "execution_count": 67,
     "metadata": {},
     "output_type": "execute_result"
    }
   ],
   "source": [
    "forest_final = grid_search_forest.best_estimator_\n",
    "feature_importance = list(zip(rf_data.columns[0:], forest_final.feature_importances_))\n",
    "dtype = [('feature', 'S10'), ('importance', 'float')]\n",
    "feature_importance = np.array(feature_importance, dtype = dtype)\n",
    "feature_sort = np.sort(feature_importance, order='importance')#[::-1]\n",
    "\n",
    "# The [::-1] above reverses the order of the list from ascending sort to descending\n",
    "\n",
    "\n",
    "\n",
    "\n",
    "feature_sort"
   ]
  },
  {
   "cell_type": "code",
   "execution_count": 69,
   "metadata": {},
   "outputs": [
    {
     "name": "stdout",
     "output_type": "stream",
     "text": [
      "(b'is_paid', b'mobile_is_', b'guarantee_', b'standard_t', b'qid77_n', b'product_ty', b'op_type_n', b'user_socia', b'spam_score', b'user_socia', b'user_has_c', b'platform', b'user_work_', b'qid77', b'mobile_qua', b'op_type', b'col_type_n', b'user_loan_', b'mobile_ver', b'user_incom', b'user_incom', b'cash_recei', b'quality', b'applicatio', b'user_has_c', b'user_age_n', b'applicatio', b'user_loan_', b'user_work_', b'loan_limit', b'app_limit_', b'col_type', b'limit_buck', b'term_bucke', b'date_bucke')\n",
      "(0.012140268703915689, 0.013085696728141562, 0.01319541596988633, 0.013197120566381249, 0.013987868974841139, 0.01425143425988242, 0.01542239281221284, 0.01588555118169391, 0.016670383258926506, 0.01833034421058484, 0.01835341167692955, 0.018965640866302116, 0.019375824197646555, 0.019703370859425327, 0.020969139557214668, 0.021055482485789954, 0.022022663898641874, 0.022748134835186277, 0.026847349375946586, 0.031145352112692464, 0.031503677397863736, 0.03174005724486555, 0.03373191048503532, 0.03385229467135617, 0.034521021369953345, 0.036201477794020574, 0.040559227806696074, 0.04101164269630123, 0.04105878561355547, 0.041692578841521534, 0.04339042930576497, 0.0446715599658991, 0.056494428441673, 0.0578960505839473, 0.0643220112493048)\n"
     ]
    },
    {
     "data": {
      "text/plain": [
       "<BarContainer object of 35 artists>"
      ]
     },
     "execution_count": 69,
     "metadata": {},
     "output_type": "execute_result"
    },
    {
     "data": {
      "image/png": "[encoded data removed]",
      "text/plain": [
       "<Figure size 1296x1296 with 1 Axes>"
      ]
     },
     "metadata": {
      "needs_background": "light"
     },
     "output_type": "display_data"
    }
   ],
   "source": [
    "featureNames, featureScores = zip(*list(feature_sort))\n",
    "print(featureNames)\n",
    "print(featureScores)\n",
    "plt.figure(figsize=(18,18))\n",
    "plt.tight_layout()\n",
    "plt.barh(range(len(featureScores)), featureScores, tick_label=featureNames)"
   ]
  },
  {
   "cell_type": "code",
   "execution_count": null,
   "metadata": {},
   "outputs": [],
   "source": []
  },
  {
   "cell_type": "raw",
   "metadata": {},
   "source": []
  },
  {
   "cell_type": "code",
   "execution_count": null,
   "metadata": {},
   "outputs": [],
   "source": []
  }
 ],
 "metadata": {
  "kernelspec": {
   "display_name": "Python 3",
   "language": "python",
   "name": "python3"
  },
  "language_info": {
   "codemirror_mode": {
    "name": "ipython",
    "version": 3
   },
   "file_extension": ".py",
   "mimetype": "text/x-python",
   "name": "python",
   "nbconvert_exporter": "python",
   "pygments_lexer": "ipython3",
   "version": "3.7.6"
  }
 },
 "nbformat": 4,
 "nbformat_minor": 4
}
