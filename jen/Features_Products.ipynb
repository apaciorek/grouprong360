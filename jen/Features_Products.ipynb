{
 "cells": [
  {
   "cell_type": "code",
   "execution_count": 1,
   "metadata": {},
   "outputs": [],
   "source": [
    "import pandas as pd\n",
    "import numpy as np\n",
    "import matplotlib.pyplot as plt\n",
    "from scipy.stats import chi2_contingency\n",
    "%matplotlib inline\n",
    "from sklearn.ensemble import RandomForestClassifier\n",
    "from sklearn.model_selection import GridSearchCV\n",
    "from sklearn.preprocessing import LabelEncoder"
   ]
  },
  {
   "cell_type": "markdown",
   "metadata": {},
   "source": [
    "### Looking at the dataframe and how to impute any missing values"
   ]
  },
  {
   "cell_type": "code",
   "execution_count": 2,
   "metadata": {},
   "outputs": [],
   "source": [
    "df = pd.read_csv(\"../order_product.csv\")"
   ]
  },
  {
   "cell_type": "code",
   "execution_count": 7,
   "metadata": {},
   "outputs": [
    {
     "data": {
      "text/plain": [
       "user_id                   0\n",
       "product_id                0\n",
       "date                      0\n",
       "term                      0\n",
       "limit                     0\n",
       "result                    0\n",
       "city_id                   0\n",
       "bank_id                   0\n",
       "product_type              0\n",
       "guarantee_type            0\n",
       "loan_term_min             0\n",
       "loan_term_max             0\n",
       "loan_term_type            0\n",
       "decision_cycle            0\n",
       "loan_cycle                0\n",
       "repayment_type            0\n",
       "loan_quota_min            0\n",
       "loan_quota_max            0\n",
       "interest_rate_type        0\n",
       "guarantee_required        0\n",
       "standard_type             0\n",
       "apply_num                 0\n",
       "fangkuan_num              0\n",
       "is_p2p                    0\n",
       "id                        0\n",
       "house_register            0\n",
       "business_license          0\n",
       "legal_person              0\n",
       "married                   0\n",
       "car                       0\n",
       "income                    0\n",
       "house                     0\n",
       "tax                       0\n",
       "socialsecurity            0\n",
       "bank                      0\n",
       "lifecost                  0\n",
       "early_repayment       46007\n",
       "penalty               46385\n",
       "dtype: int64"
      ]
     },
     "execution_count": 7,
     "metadata": {},
     "output_type": "execute_result"
    }
   ],
   "source": [
    "df.isnull().sum(axis=0)"
   ]
  },
  {
   "cell_type": "markdown",
   "metadata": {},
   "source": [
    "### Two columns with missing values: early_repayment and penalty\n",
    "Contingency tables below show there may be a dependence of result on \n",
    "the missingness "
   ]
  },
  {
   "cell_type": "code",
   "execution_count": 4,
   "metadata": {},
   "outputs": [
    {
     "data": {
      "text/html": [
       "<div>\n",
       "<style scoped>\n",
       "    .dataframe tbody tr th:only-of-type {\n",
       "        vertical-align: middle;\n",
       "    }\n",
       "\n",
       "    .dataframe tbody tr th {\n",
       "        vertical-align: top;\n",
       "    }\n",
       "\n",
       "    .dataframe thead th {\n",
       "        text-align: right;\n",
       "    }\n",
       "</style>\n",
       "<table border=\"1\" class=\"dataframe\">\n",
       "  <thead>\n",
       "    <tr style=\"text-align: right;\">\n",
       "      <th>early_repayment</th>\n",
       "      <th>NaN</th>\n",
       "      <th>0.0</th>\n",
       "      <th>1.0</th>\n",
       "    </tr>\n",
       "    <tr>\n",
       "      <th>result</th>\n",
       "      <th></th>\n",
       "      <th></th>\n",
       "      <th></th>\n",
       "    </tr>\n",
       "  </thead>\n",
       "  <tbody>\n",
       "    <tr>\n",
       "      <td>0</td>\n",
       "      <td>0.903471</td>\n",
       "      <td>0.873016</td>\n",
       "      <td>0.794548</td>\n",
       "    </tr>\n",
       "    <tr>\n",
       "      <td>1</td>\n",
       "      <td>0.096529</td>\n",
       "      <td>0.126984</td>\n",
       "      <td>0.205452</td>\n",
       "    </tr>\n",
       "  </tbody>\n",
       "</table>\n",
       "</div>"
      ],
      "text/plain": [
       "early_repayment       NaN       0.0       1.0\n",
       "result                                       \n",
       "0                0.903471  0.873016  0.794548\n",
       "1                0.096529  0.126984  0.205452"
      ]
     },
     "execution_count": 4,
     "metadata": {},
     "output_type": "execute_result"
    }
   ],
   "source": [
    "df.fillna(-4).groupby('early_repayment')['result'].value_counts(normalize=True).\\\n",
    "    rename('values').reset_index().pivot(index='result', columns='early_repayment', \n",
    "            values='values').rename(columns={-4:np.nan})"
   ]
  },
  {
   "cell_type": "code",
   "execution_count": 5,
   "metadata": {},
   "outputs": [
    {
     "data": {
      "text/html": [
       "<div>\n",
       "<style scoped>\n",
       "    .dataframe tbody tr th:only-of-type {\n",
       "        vertical-align: middle;\n",
       "    }\n",
       "\n",
       "    .dataframe tbody tr th {\n",
       "        vertical-align: top;\n",
       "    }\n",
       "\n",
       "    .dataframe thead th {\n",
       "        text-align: right;\n",
       "    }\n",
       "</style>\n",
       "<table border=\"1\" class=\"dataframe\">\n",
       "  <thead>\n",
       "    <tr style=\"text-align: right;\">\n",
       "      <th>penalty</th>\n",
       "      <th>NaN</th>\n",
       "      <th>0.0</th>\n",
       "      <th>1.0</th>\n",
       "    </tr>\n",
       "    <tr>\n",
       "      <th>result</th>\n",
       "      <th></th>\n",
       "      <th></th>\n",
       "      <th></th>\n",
       "    </tr>\n",
       "  </thead>\n",
       "  <tbody>\n",
       "    <tr>\n",
       "      <td>0</td>\n",
       "      <td>0.903223</td>\n",
       "      <td>0.85639</td>\n",
       "      <td>0.781994</td>\n",
       "    </tr>\n",
       "    <tr>\n",
       "      <td>1</td>\n",
       "      <td>0.096777</td>\n",
       "      <td>0.14361</td>\n",
       "      <td>0.218006</td>\n",
       "    </tr>\n",
       "  </tbody>\n",
       "</table>\n",
       "</div>"
      ],
      "text/plain": [
       "penalty       NaN      0.0       1.0\n",
       "result                              \n",
       "0        0.903223  0.85639  0.781994\n",
       "1        0.096777  0.14361  0.218006"
      ]
     },
     "execution_count": 5,
     "metadata": {},
     "output_type": "execute_result"
    }
   ],
   "source": [
    "df.fillna(-4).groupby('penalty')['result'].value_counts(normalize=True).\\\n",
    "    rename('values').reset_index().pivot(index='result',columns='penalty', \n",
    "        values='values').rename(columns={-4:np.nan})"
   ]
  },
  {
   "cell_type": "markdown",
   "metadata": {},
   "source": [
    "### Set up for random forest classifier"
   ]
  },
  {
   "cell_type": "code",
   "execution_count": 8,
   "metadata": {},
   "outputs": [],
   "source": [
    "randomforest = RandomForestClassifier()"
   ]
  },
  {
   "cell_type": "code",
   "execution_count": 9,
   "metadata": {},
   "outputs": [],
   "source": [
    "## for the features I drop the categorical variables that seem to hold limited info\n",
    "features = df.drop(['user_id','product_id','bank_id','city_id', 'result'], axis=1)\n",
    "target = df['result']"
   ]
  },
  {
   "cell_type": "code",
   "execution_count": 17,
   "metadata": {},
   "outputs": [],
   "source": [
    "randomforest.set_params(min_samples_leaf=7)\n",
    "grid_params = {#'criterion':['gini','entropy'], \n",
    "               'max_depth': range(16,19,1),        # 13 range(1, 16, 3)    # 16 range(10,17,2)   # 18\n",
    "               'max_features': range(6,9,1),      #  8 range(4, 10, 2)    # 8 range(6,11,2)     # 6\n",
    "        #       'min_samples_leaf': range(1,10,4),  #  7 range(1, 10, 3)    # 9 range(5,10,2)     # 7\n",
    "               'n_estimators': range(70,100,10)}   # 70 range(10, 100, 20) # 70 range(50,101,20) # 80\n",
    "grid_search = GridSearchCV(randomforest, grid_params, cv=5, \n",
    "                           scoring='balanced_accuracy', n_jobs=-1)"
   ]
  },
  {
   "cell_type": "code",
   "execution_count": 14,
   "metadata": {},
   "outputs": [
    {
     "data": {
      "text/plain": [
       "array([1, 5, 9])"
      ]
     },
     "execution_count": 14,
     "metadata": {},
     "output_type": "execute_result"
    }
   ],
   "source": [
    "np.arange(1,10,4)"
   ]
  },
  {
   "cell_type": "markdown",
   "metadata": {},
   "source": [
    "#### try with filling the missing values with a completely new number"
   ]
  },
  {
   "cell_type": "code",
   "execution_count": 18,
   "metadata": {},
   "outputs": [
    {
     "data": {
      "text/plain": [
       "GridSearchCV(cv=5, error_score='raise-deprecating',\n",
       "             estimator=RandomForestClassifier(bootstrap=True, class_weight=None,\n",
       "                                              criterion='gini', max_depth=None,\n",
       "                                              max_features='auto',\n",
       "                                              max_leaf_nodes=None,\n",
       "                                              min_impurity_decrease=0.0,\n",
       "                                              min_impurity_split=None,\n",
       "                                              min_samples_leaf=7,\n",
       "                                              min_samples_split=2,\n",
       "                                              min_weight_fraction_leaf=0.0,\n",
       "                                              n_estimators='warn', n_jobs=None,\n",
       "                                              oob_score=False,\n",
       "                                              random_state=None, verbose=0,\n",
       "                                              warm_start=False),\n",
       "             iid='warn', n_jobs=-1,\n",
       "             param_grid={'max_depth': range(16, 19),\n",
       "                         'max_features': range(6, 9),\n",
       "                         'n_estimators': range(70, 100, 10)},\n",
       "             pre_dispatch='2*n_jobs', refit=True, return_train_score=False,\n",
       "             scoring='balanced_accuracy', verbose=0)"
      ]
     },
     "execution_count": 18,
     "metadata": {},
     "output_type": "execute_result"
    }
   ],
   "source": [
    "grid_search.fit(features.fillna(-4), target)"
   ]
  },
  {
   "cell_type": "code",
   "execution_count": 20,
   "metadata": {},
   "outputs": [
    {
     "data": {
      "text/plain": [
       "['best_estimator_randomforest_newimputation.joblib']"
      ]
     },
     "execution_count": 20,
     "metadata": {},
     "output_type": "execute_result"
    }
   ],
   "source": [
    "#from joblib import dump\n",
    "best_est = grid_search.best_estimator_\n",
    "dump(best_est, 'best_estimator_randomforest_newimputation.joblib')"
   ]
  },
  {
   "cell_type": "code",
   "execution_count": 21,
   "metadata": {},
   "outputs": [
    {
     "data": {
      "text/plain": [
       "{'max_depth': 18, 'max_features': 6, 'n_estimators': 90}"
      ]
     },
     "execution_count": 21,
     "metadata": {},
     "output_type": "execute_result"
    }
   ],
   "source": [
    "grid_search.best_params_ "
   ]
  },
  {
   "cell_type": "code",
   "execution_count": 22,
   "metadata": {},
   "outputs": [
    {
     "data": {
      "text/plain": [
       "0.5475776075570247"
      ]
     },
     "execution_count": 22,
     "metadata": {},
     "output_type": "execute_result"
    }
   ],
   "source": [
    "grid_search.best_score_"
   ]
  },
  {
   "cell_type": "code",
   "execution_count": 23,
   "metadata": {},
   "outputs": [],
   "source": [
    "best_est = grid_search.best_estimator_"
   ]
  },
  {
   "cell_type": "code",
   "execution_count": 35,
   "metadata": {},
   "outputs": [
    {
     "data": {
      "image/png": "[encoded data removed]",
      "text/plain": [
       "<Figure size 432x288 with 1 Axes>"
      ]
     },
     "metadata": {
      "needs_background": "light"
     },
     "output_type": "display_data"
    }
   ],
   "source": [
    "newdf = pd.DataFrame(best_est.feature_importances_, index=features.columns, \n",
    "    columns=['importance'])\n",
    "newdf.sort_values(by='importance', ascending=False).plot.bar()\n",
    "plt.title('product feature importances')\n",
    "plt.tight_layout()\n",
    "plt.show()"
   ]
  },
  {
   "cell_type": "code",
   "execution_count": 25,
   "metadata": {},
   "outputs": [
    {
     "data": {
      "text/plain": [
       "0.8430549346149547"
      ]
     },
     "execution_count": 25,
     "metadata": {},
     "output_type": "execute_result"
    }
   ],
   "source": [
    "best_est.fit(features.fillna(-4), target)\n",
    "best_est.score(features.fillna(-4), target)"
   ]
  },
  {
   "cell_type": "code",
   "execution_count": 26,
   "metadata": {},
   "outputs": [
    {
     "data": {
      "image/png": "[encoded data removed]",
      "text/plain": [
       "<Figure size 432x288 with 1 Axes>"
      ]
     },
     "metadata": {
      "needs_background": "light"
     },
     "output_type": "display_data"
    }
   ],
   "source": [
    "newdf2 = pd.DataFrame(best_est.feature_importances_, index=features.columns, \n",
    "    columns=['importance'])\n",
    "newdf2.sort_values(by='importance', ascending=False).plot.bar()\n",
    "plt.title('product feature importances')\n",
    "plt.tight_layout()\n",
    "plt.show()"
   ]
  },
  {
   "cell_type": "code",
   "execution_count": 40,
   "metadata": {},
   "outputs": [],
   "source": [
    "newdf.importance.sort_values(ascending=False)[:20].\\\n",
    "to_csv('product_feature_importances.csv', header=['importance'])"
   ]
  },
  {
   "cell_type": "code",
   "execution_count": 75,
   "metadata": {},
   "outputs": [],
   "source": [
    "important_features = newdf.importance.sort_values(ascending=False)[:20].index.tolist()"
   ]
  },
  {
   "cell_type": "markdown",
   "metadata": {},
   "source": [
    "### Random Forest with random selection for imputation of missing values"
   ]
  },
  {
   "cell_type": "code",
   "execution_count": 27,
   "metadata": {},
   "outputs": [],
   "source": [
    "import random"
   ]
  },
  {
   "cell_type": "code",
   "execution_count": 6,
   "metadata": {},
   "outputs": [],
   "source": [
    "features2 = features.copy()\n",
    "#column_vals = features2[column].values[features2[column].values != np.nan]\n",
    "#    features3[column] = features2[column].fillna(random.choice(column_vals))\n",
    "features2['early_repayment'].fillna(random.choice(features2['early_repayment'].\\\n",
    "    values[features2['early_repayment'].values != np.nan]), inplace=True)\n",
    "features2['penalty'].fillna(random.choice(features2['early_repayment'].\\\n",
    "    values[features2['penalty'].values != np.nan]), inplace=True)\n",
    "#grid_search.fit(features.fillna(-4), target)"
   ]
  },
  {
   "cell_type": "code",
   "execution_count": 67,
   "metadata": {},
   "outputs": [],
   "source": [
    "grid_params = {#'criterion':['gini','entropy'], \n",
    "               'max_depth': range(5,15,2), \n",
    "               'max_features': range(4,10,2), \n",
    "               'min_samples_leaf': range(1,5,1), \n",
    "               'n_estimators': range(20,70,10)}\n",
    "grid_search = GridSearchCV(randomforest, grid_params, cv=5, \n",
    "                           scoring='balanced_accuracy', n_jobs=-1)"
   ]
  },
  {
   "cell_type": "code",
   "execution_count": 68,
   "metadata": {},
   "outputs": [
    {
     "data": {
      "text/plain": [
       "GridSearchCV(cv=5, error_score='raise-deprecating',\n",
       "             estimator=RandomForestClassifier(bootstrap=True, class_weight=None,\n",
       "                                              criterion='gini', max_depth=None,\n",
       "                                              max_features='auto',\n",
       "                                              max_leaf_nodes=None,\n",
       "                                              min_impurity_decrease=0.0,\n",
       "                                              min_impurity_split=None,\n",
       "                                              min_samples_leaf=1,\n",
       "                                              min_samples_split=2,\n",
       "                                              min_weight_fraction_leaf=0.0,\n",
       "                                              n_estimators='warn', n_jobs=None,\n",
       "                                              oob_score=False,\n",
       "                                              random_state=None, verbose=0,\n",
       "                                              warm_start=False),\n",
       "             iid='warn', n_jobs=-1,\n",
       "             param_grid={'max_depth': range(5, 15, 2),\n",
       "                         'max_features': range(4, 10, 2),\n",
       "                         'min_samples_leaf': range(1, 5),\n",
       "                         'n_estimators': range(20, 70, 10)},\n",
       "             pre_dispatch='2*n_jobs', refit=True, return_train_score=False,\n",
       "             scoring='balanced_accuracy', verbose=0)"
      ]
     },
     "execution_count": 68,
     "metadata": {},
     "output_type": "execute_result"
    }
   ],
   "source": [
    "grid_search.fit(features2, target)"
   ]
  },
  {
   "cell_type": "code",
   "execution_count": 70,
   "metadata": {},
   "outputs": [
    {
     "data": {
      "text/plain": [
       "{'max_depth': 13, 'max_features': 8, 'min_samples_leaf': 4, 'n_estimators': 50}"
      ]
     },
     "execution_count": 70,
     "metadata": {},
     "output_type": "execute_result"
    }
   ],
   "source": [
    "grid_search.best_params_"
   ]
  },
  {
   "cell_type": "code",
   "execution_count": 71,
   "metadata": {},
   "outputs": [
    {
     "data": {
      "text/plain": [
       "0.5439140846286917"
      ]
     },
     "execution_count": 71,
     "metadata": {},
     "output_type": "execute_result"
    }
   ],
   "source": [
    "grid_search.best_score_"
   ]
  },
  {
   "cell_type": "code",
   "execution_count": 73,
   "metadata": {},
   "outputs": [],
   "source": [
    "best_est2 = grid_search.best_estimator_"
   ]
  },
  {
   "cell_type": "code",
   "execution_count": 74,
   "metadata": {},
   "outputs": [
    {
     "data": {
      "text/plain": [
       "RandomForestClassifier(bootstrap=True, class_weight=None, criterion='gini',\n",
       "                       max_depth=13, max_features=8, max_leaf_nodes=None,\n",
       "                       min_impurity_decrease=0.0, min_impurity_split=None,\n",
       "                       min_samples_leaf=4, min_samples_split=2,\n",
       "                       min_weight_fraction_leaf=0.0, n_estimators=50,\n",
       "                       n_jobs=None, oob_score=False, random_state=None,\n",
       "                       verbose=0, warm_start=False)"
      ]
     },
     "execution_count": 74,
     "metadata": {},
     "output_type": "execute_result"
    }
   ],
   "source": [
    "best_est2.fit(features2, target)"
   ]
  },
  {
   "cell_type": "code",
   "execution_count": 76,
   "metadata": {},
   "outputs": [
    {
     "data": {
      "text/plain": [
       "0.8360134682016318"
      ]
     },
     "execution_count": 76,
     "metadata": {},
     "output_type": "execute_result"
    }
   ],
   "source": [
    "best_est2.score(features2, target)"
   ]
  },
  {
   "cell_type": "code",
   "execution_count": null,
   "metadata": {},
   "outputs": [],
   "source": [
    "newdf = pd.DataFrame(best_est2.feature_importances_, index=features2.columns, \n",
    "    columns=['importance'])\n",
    "newdf.sort_values(by='importance', ascending=False).plot.bar()\n",
    "plt.title('product feature importances')\n",
    "plt.tight_layout()\n",
    "plt.show()"
   ]
  },
  {
   "cell_type": "markdown",
   "metadata": {},
   "source": [
    "## Random Forest to determine Apply_num"
   ]
  },
  {
   "cell_type": "code",
   "execution_count": 3,
   "metadata": {},
   "outputs": [],
   "source": [
    "features2 = df.drop(['user_id','product_id','bank_id','city_id', 'apply_num'], axis=1)\n",
    "target2 = df['apply_num']"
   ]
  },
  {
   "cell_type": "code",
   "execution_count": 11,
   "metadata": {},
   "outputs": [
    {
     "name": "stderr",
     "output_type": "stream",
     "text": [
      "/Users/jen/opt/anaconda3/lib/python3.7/site-packages/sklearn/ensemble/forest.py:245: FutureWarning: The default value of n_estimators will change from 10 in version 0.20 to 100 in 0.22.\n",
      "  \"10 in version 0.20 to 100 in 0.22.\", FutureWarning)\n"
     ]
    },
    {
     "data": {
      "text/plain": [
       "RandomForestRegressor(bootstrap=True, criterion='mse', max_depth=None,\n",
       "                      max_features='auto', max_leaf_nodes=None,\n",
       "                      min_impurity_decrease=0.0, min_impurity_split=None,\n",
       "                      min_samples_leaf=1, min_samples_split=2,\n",
       "                      min_weight_fraction_leaf=0.0, n_estimators=10,\n",
       "                      n_jobs=None, oob_score=False, random_state=None,\n",
       "                      verbose=0, warm_start=False)"
      ]
     },
     "execution_count": 11,
     "metadata": {},
     "output_type": "execute_result"
    }
   ],
   "source": [
    "from sklearn.ensemble import RandomForestRegressor\n",
    "rfr = RandomForestRegressor()\n",
    "rfr.fit(features2.fillna(-1), target2)"
   ]
  },
  {
   "cell_type": "code",
   "execution_count": 91,
   "metadata": {},
   "outputs": [
    {
     "data": {
      "image/png": "[encoded data removed]",
      "text/plain": [
       "<Figure size 432x288 with 1 Axes>"
      ]
     },
     "metadata": {
      "needs_background": "light"
     },
     "output_type": "display_data"
    }
   ],
   "source": [
    "newdf2 = pd.DataFrame(rfr.feature_importances_, index=features2.columns, \n",
    "    columns=['importance'])\n",
    "newdf2.sort_values(by='importance', ascending=False).plot.bar()\n",
    "plt.title('product feature importances')\n",
    "plt.tight_layout()\n",
    "plt.show()"
   ]
  },
  {
   "cell_type": "code",
   "execution_count": 5,
   "metadata": {},
   "outputs": [
    {
     "data": {
      "text/plain": [
       "RandomForestRegressor(bootstrap=True, criterion='r2', max_depth=None,\n",
       "                      max_features='auto', max_leaf_nodes=None,\n",
       "                      min_impurity_decrease=0.0, min_impurity_split=None,\n",
       "                      min_samples_leaf=1, min_samples_split=2,\n",
       "                      min_weight_fraction_leaf=0.0, n_estimators=10,\n",
       "                      n_jobs=None, oob_score=False, random_state=None,\n",
       "                      verbose=0, warm_start=False)"
      ]
     },
     "execution_count": 5,
     "metadata": {},
     "output_type": "execute_result"
    }
   ],
   "source": [
    "#rfr.set_params(criterion='r2')"
   ]
  },
  {
   "cell_type": "code",
   "execution_count": 35,
   "metadata": {},
   "outputs": [],
   "source": [
    "grid_params = {#'max_depth': range(2,21,3), \n",
    "               'max_features': range(6,15,1), \n",
    "         #      'min_samples_leaf': range(1,6,5), \n",
    "              'n_estimators': range(150,301,25)}\n",
    "grid_search2 = GridSearchCV(rfr, grid_params, cv=5, \n",
    "                           scoring='r2', n_jobs=-1)"
   ]
  },
  {
   "cell_type": "code",
   "execution_count": 36,
   "metadata": {},
   "outputs": [
    {
     "data": {
      "text/plain": [
       "GridSearchCV(cv=5, error_score='raise-deprecating',\n",
       "             estimator=RandomForestRegressor(bootstrap=True, criterion='mse',\n",
       "                                             max_depth=None,\n",
       "                                             max_features='auto',\n",
       "                                             max_leaf_nodes=None,\n",
       "                                             min_impurity_decrease=0.0,\n",
       "                                             min_impurity_split=None,\n",
       "                                             min_samples_leaf=1,\n",
       "                                             min_samples_split=2,\n",
       "                                             min_weight_fraction_leaf=0.0,\n",
       "                                             n_estimators=10, n_jobs=None,\n",
       "                                             oob_score=False, random_state=None,\n",
       "                                             verbose=0, warm_start=False),\n",
       "             iid='warn', n_jobs=-1,\n",
       "             param_grid={'max_features': range(6, 15),\n",
       "                         'n_estimators': range(150, 301, 25)},\n",
       "             pre_dispatch='2*n_jobs', refit=True, return_train_score=False,\n",
       "             scoring='r2', verbose=0)"
      ]
     },
     "execution_count": 36,
     "metadata": {},
     "output_type": "execute_result"
    }
   ],
   "source": [
    "#np.arange(2,21,3)\n",
    "#randomforest.set_params(max_depth=10, n_estimators=100)\n",
    "#randomforest.fit(features2.fillna(-1), target2)\n",
    "grid_search2.fit(features2.fillna(-1), target2)"
   ]
  },
  {
   "cell_type": "code",
   "execution_count": 37,
   "metadata": {},
   "outputs": [
    {
     "data": {
      "text/plain": [
       "{'max_features': 14, 'n_estimators': 275}"
      ]
     },
     "execution_count": 37,
     "metadata": {},
     "output_type": "execute_result"
    }
   ],
   "source": [
    "grid_search2.best_params_ # 8 range(2,10,1), 250 range(100,301,50)"
   ]
  },
  {
   "cell_type": "code",
   "execution_count": 38,
   "metadata": {},
   "outputs": [
    {
     "data": {
      "image/png": "[encoded data removed]",
      "text/plain": [
       "<Figure size 432x288 with 1 Axes>"
      ]
     },
     "metadata": {
      "needs_background": "light"
     },
     "output_type": "display_data"
    }
   ],
   "source": [
    "newdf2 = pd.DataFrame(grid_search2.best_estimator_.feature_importances_, index=features2.columns, \n",
    "    columns=['importance'])\n",
    "newdf2.sort_values(by='importance', ascending=False).plot.bar()\n",
    "plt.title('product feature importances')\n",
    "plt.tight_layout()\n",
    "plt.show()"
   ]
  },
  {
   "cell_type": "code",
   "execution_count": 44,
   "metadata": {},
   "outputs": [],
   "source": [
    "newdf2.importance.sort_values(ascending=False).\\\n",
    "to_csv('product_feature_importances_apply_num.csv', header=['importance'])"
   ]
  },
  {
   "cell_type": "markdown",
   "metadata": {},
   "source": [
    "### PCA"
   ]
  },
  {
   "cell_type": "code",
   "execution_count": 99,
   "metadata": {},
   "outputs": [
    {
     "data": {
      "text/plain": [
       "array([ 10,  40,  70, 100])"
      ]
     },
     "execution_count": 99,
     "metadata": {},
     "output_type": "execute_result"
    }
   ],
   "source": []
  },
  {
   "cell_type": "code",
   "execution_count": null,
   "metadata": {},
   "outputs": [],
   "source": []
  },
  {
   "cell_type": "code",
   "execution_count": null,
   "metadata": {},
   "outputs": [],
   "source": []
  },
  {
   "cell_type": "markdown",
   "metadata": {},
   "source": [
    "### Clustering"
   ]
  },
  {
   "cell_type": "code",
   "execution_count": 45,
   "metadata": {},
   "outputs": [],
   "source": [
    "from sklearn.cluster import KMeans"
   ]
  },
  {
   "cell_type": "code",
   "execution_count": 46,
   "metadata": {},
   "outputs": [],
   "source": [
    "kmeans = KMeans()"
   ]
  },
  {
   "cell_type": "code",
   "execution_count": 53,
   "metadata": {},
   "outputs": [],
   "source": [
    "important_columns = newdf2.importance.sort_values(ascending=False)[:10].index.tolist()"
   ]
  },
  {
   "cell_type": "code",
   "execution_count": 57,
   "metadata": {},
   "outputs": [],
   "source": [
    "aug_df = df[important_columns].fillna(-1)"
   ]
  },
  {
   "cell_type": "code",
   "execution_count": 60,
   "metadata": {},
   "outputs": [
    {
     "data": {
      "text/html": [
       "<div>\n",
       "<style scoped>\n",
       "    .dataframe tbody tr th:only-of-type {\n",
       "        vertical-align: middle;\n",
       "    }\n",
       "\n",
       "    .dataframe tbody tr th {\n",
       "        vertical-align: top;\n",
       "    }\n",
       "\n",
       "    .dataframe thead th {\n",
       "        text-align: right;\n",
       "    }\n",
       "</style>\n",
       "<table border=\"1\" class=\"dataframe\">\n",
       "  <thead>\n",
       "    <tr style=\"text-align: right;\">\n",
       "      <th></th>\n",
       "      <th>fangkuan_num</th>\n",
       "      <th>loan_quota_min</th>\n",
       "      <th>loan_cycle</th>\n",
       "      <th>decision_cycle</th>\n",
       "      <th>house_register</th>\n",
       "      <th>income</th>\n",
       "      <th>loan_term_min</th>\n",
       "      <th>penalty</th>\n",
       "      <th>house</th>\n",
       "      <th>interest_rate_type</th>\n",
       "      <th>apply_num</th>\n",
       "    </tr>\n",
       "  </thead>\n",
       "  <tbody>\n",
       "    <tr>\n",
       "      <td>0</td>\n",
       "      <td>8</td>\n",
       "      <td>300000</td>\n",
       "      <td>17</td>\n",
       "      <td>3</td>\n",
       "      <td>1</td>\n",
       "      <td>1</td>\n",
       "      <td>12</td>\n",
       "      <td>0.0</td>\n",
       "      <td>1</td>\n",
       "      <td>0</td>\n",
       "      <td>205</td>\n",
       "    </tr>\n",
       "    <tr>\n",
       "      <td>1</td>\n",
       "      <td>943</td>\n",
       "      <td>50000</td>\n",
       "      <td>5</td>\n",
       "      <td>3</td>\n",
       "      <td>0</td>\n",
       "      <td>0</td>\n",
       "      <td>12</td>\n",
       "      <td>-1.0</td>\n",
       "      <td>0</td>\n",
       "      <td>0</td>\n",
       "      <td>3406</td>\n",
       "    </tr>\n",
       "    <tr>\n",
       "      <td>2</td>\n",
       "      <td>31</td>\n",
       "      <td>300000</td>\n",
       "      <td>20</td>\n",
       "      <td>3</td>\n",
       "      <td>1</td>\n",
       "      <td>0</td>\n",
       "      <td>12</td>\n",
       "      <td>0.0</td>\n",
       "      <td>1</td>\n",
       "      <td>0</td>\n",
       "      <td>520</td>\n",
       "    </tr>\n",
       "    <tr>\n",
       "      <td>3</td>\n",
       "      <td>0</td>\n",
       "      <td>10000</td>\n",
       "      <td>3</td>\n",
       "      <td>1</td>\n",
       "      <td>0</td>\n",
       "      <td>1</td>\n",
       "      <td>12</td>\n",
       "      <td>-1.0</td>\n",
       "      <td>0</td>\n",
       "      <td>0</td>\n",
       "      <td>0</td>\n",
       "    </tr>\n",
       "    <tr>\n",
       "      <td>4</td>\n",
       "      <td>23</td>\n",
       "      <td>10000</td>\n",
       "      <td>3</td>\n",
       "      <td>1</td>\n",
       "      <td>1</td>\n",
       "      <td>0</td>\n",
       "      <td>6</td>\n",
       "      <td>1.0</td>\n",
       "      <td>1</td>\n",
       "      <td>0</td>\n",
       "      <td>973</td>\n",
       "    </tr>\n",
       "    <tr>\n",
       "      <td>...</td>\n",
       "      <td>...</td>\n",
       "      <td>...</td>\n",
       "      <td>...</td>\n",
       "      <td>...</td>\n",
       "      <td>...</td>\n",
       "      <td>...</td>\n",
       "      <td>...</td>\n",
       "      <td>...</td>\n",
       "      <td>...</td>\n",
       "      <td>...</td>\n",
       "      <td>...</td>\n",
       "    </tr>\n",
       "    <tr>\n",
       "      <td>143147</td>\n",
       "      <td>89</td>\n",
       "      <td>50000</td>\n",
       "      <td>2</td>\n",
       "      <td>1</td>\n",
       "      <td>0</td>\n",
       "      <td>0</td>\n",
       "      <td>1</td>\n",
       "      <td>0.0</td>\n",
       "      <td>0</td>\n",
       "      <td>0</td>\n",
       "      <td>539</td>\n",
       "    </tr>\n",
       "    <tr>\n",
       "      <td>143148</td>\n",
       "      <td>0</td>\n",
       "      <td>10000</td>\n",
       "      <td>3</td>\n",
       "      <td>0</td>\n",
       "      <td>0</td>\n",
       "      <td>0</td>\n",
       "      <td>12</td>\n",
       "      <td>-1.0</td>\n",
       "      <td>0</td>\n",
       "      <td>0</td>\n",
       "      <td>4</td>\n",
       "    </tr>\n",
       "    <tr>\n",
       "      <td>143149</td>\n",
       "      <td>57</td>\n",
       "      <td>10000</td>\n",
       "      <td>3</td>\n",
       "      <td>2</td>\n",
       "      <td>0</td>\n",
       "      <td>0</td>\n",
       "      <td>1</td>\n",
       "      <td>-1.0</td>\n",
       "      <td>1</td>\n",
       "      <td>0</td>\n",
       "      <td>706</td>\n",
       "    </tr>\n",
       "    <tr>\n",
       "      <td>143150</td>\n",
       "      <td>1076</td>\n",
       "      <td>50000</td>\n",
       "      <td>3</td>\n",
       "      <td>2</td>\n",
       "      <td>0</td>\n",
       "      <td>0</td>\n",
       "      <td>12</td>\n",
       "      <td>1.0</td>\n",
       "      <td>0</td>\n",
       "      <td>0</td>\n",
       "      <td>3828</td>\n",
       "    </tr>\n",
       "    <tr>\n",
       "      <td>143151</td>\n",
       "      <td>890</td>\n",
       "      <td>70000</td>\n",
       "      <td>3</td>\n",
       "      <td>2</td>\n",
       "      <td>0</td>\n",
       "      <td>1</td>\n",
       "      <td>12</td>\n",
       "      <td>1.0</td>\n",
       "      <td>1</td>\n",
       "      <td>0</td>\n",
       "      <td>2131</td>\n",
       "    </tr>\n",
       "  </tbody>\n",
       "</table>\n",
       "<p>143152 rows × 11 columns</p>\n",
       "</div>"
      ],
      "text/plain": [
       "        fangkuan_num  loan_quota_min  loan_cycle  decision_cycle  \\\n",
       "0                  8          300000          17               3   \n",
       "1                943           50000           5               3   \n",
       "2                 31          300000          20               3   \n",
       "3                  0           10000           3               1   \n",
       "4                 23           10000           3               1   \n",
       "...              ...             ...         ...             ...   \n",
       "143147            89           50000           2               1   \n",
       "143148             0           10000           3               0   \n",
       "143149            57           10000           3               2   \n",
       "143150          1076           50000           3               2   \n",
       "143151           890           70000           3               2   \n",
       "\n",
       "        house_register  income  loan_term_min  penalty  house  \\\n",
       "0                    1       1             12      0.0      1   \n",
       "1                    0       0             12     -1.0      0   \n",
       "2                    1       0             12      0.0      1   \n",
       "3                    0       1             12     -1.0      0   \n",
       "4                    1       0              6      1.0      1   \n",
       "...                ...     ...            ...      ...    ...   \n",
       "143147               0       0              1      0.0      0   \n",
       "143148               0       0             12     -1.0      0   \n",
       "143149               0       0              1     -1.0      1   \n",
       "143150               0       0             12      1.0      0   \n",
       "143151               0       1             12      1.0      1   \n",
       "\n",
       "        interest_rate_type  apply_num  \n",
       "0                        0        205  \n",
       "1                        0       3406  \n",
       "2                        0        520  \n",
       "3                        0          0  \n",
       "4                        0        973  \n",
       "...                    ...        ...  \n",
       "143147                   0        539  \n",
       "143148                   0          4  \n",
       "143149                   0        706  \n",
       "143150                   0       3828  \n",
       "143151                   0       2131  \n",
       "\n",
       "[143152 rows x 11 columns]"
      ]
     },
     "execution_count": 60,
     "metadata": {},
     "output_type": "execute_result"
    }
   ],
   "source": [
    "aug_df['apply_num'] = df['apply_num']\n",
    "aug_df"
   ]
  },
  {
   "cell_type": "code",
   "execution_count": 68,
   "metadata": {},
   "outputs": [
    {
     "name": "stdout",
     "output_type": "stream",
     "text": [
      "fangkuan_num\n",
      "312\n",
      "loan_quota_min\n",
      "42\n",
      "loan_cycle\n",
      "42\n",
      "decision_cycle\n",
      "17\n",
      "house_register\n",
      "2\n",
      "income\n",
      "2\n",
      "loan_term_min\n",
      "18\n",
      "penalty\n",
      "3\n",
      "house\n",
      "2\n",
      "interest_rate_type\n",
      "3\n",
      "apply_num\n",
      "703\n"
     ]
    }
   ],
   "source": [
    "# to dummify: penalty, interest_rate_type\n",
    "to_dummify = []\n",
    "for column in aug_df.columns:\n",
    "    print(column)\n",
    "    print(aug_df[column].nunique())\n",
    "    if (aug_df[column].nunique() > 2) & (aug_df[column].nunique() < 10): \n",
    "        to_dummify.append(column)"
   ]
  },
  {
   "cell_type": "code",
   "execution_count": 76,
   "metadata": {},
   "outputs": [],
   "source": [
    "new_df = aug_df.copy()\n",
    "for column in to_dummify:\n",
    "    new_df = pd.concat([new_df.drop(column, axis=1), pd.get_dummies(aug_df[column], \n",
    "                                prefix=column)], axis=1)\n",
    "#pd.get_dummies(penalty)"
   ]
  },
  {
   "cell_type": "code",
   "execution_count": 77,
   "metadata": {},
   "outputs": [
    {
     "data": {
      "text/plain": [
       "Index(['fangkuan_num', 'loan_quota_min', 'loan_cycle', 'decision_cycle',\n",
       "       'house_register', 'income', 'loan_term_min', 'house', 'apply_num',\n",
       "       'penalty_-1.0', 'penalty_0.0', 'penalty_1.0', 'interest_rate_type_0',\n",
       "       'interest_rate_type_1', 'interest_rate_type_2'],\n",
       "      dtype='object')"
      ]
     },
     "execution_count": 77,
     "metadata": {},
     "output_type": "execute_result"
    }
   ],
   "source": [
    "new_df.columns"
   ]
  },
  {
   "cell_type": "code",
   "execution_count": 78,
   "metadata": {},
   "outputs": [],
   "source": [
    "from sklearn.preprocessing import StandardScaler"
   ]
  },
  {
   "cell_type": "code",
   "execution_count": 79,
   "metadata": {},
   "outputs": [],
   "source": [
    "new_df2 = StandardScaler().fit_transform(new_df)"
   ]
  },
  {
   "cell_type": "code",
   "execution_count": 80,
   "metadata": {},
   "outputs": [
    {
     "data": {
      "text/plain": [
       "array([[-0.46584651,  0.39502322,  1.91819677, ...,  0.36467627,\n",
       "        -0.02379396, -0.36367968],\n",
       "       [ 0.68358492, -0.01654075, -0.02907836, ...,  0.36467627,\n",
       "        -0.02379396, -0.36367968],\n",
       "       [-0.43757172,  0.39502322,  2.40501555, ...,  0.36467627,\n",
       "        -0.02379396, -0.36367968],\n",
       "       ...,\n",
       "       [-0.40560892, -0.08239099, -0.35362421, ...,  0.36467627,\n",
       "        -0.02379396, -0.36367968],\n",
       "       [ 0.84708693, -0.01654075, -0.35362421, ...,  0.36467627,\n",
       "        -0.02379396, -0.36367968],\n",
       "       [ 0.61842998,  0.01638437, -0.35362421, ...,  0.36467627,\n",
       "        -0.02379396, -0.36367968]])"
      ]
     },
     "execution_count": 80,
     "metadata": {},
     "output_type": "execute_result"
    }
   ],
   "source": [
    "new_df2"
   ]
  },
  {
   "cell_type": "code",
   "execution_count": 82,
   "metadata": {},
   "outputs": [],
   "source": [
    "def plot_inertia(km, X, n_cluster_range):\n",
    "    inertias = []\n",
    "    for i in n_cluster_range:\n",
    "        km.set_params(n_clusters=i)\n",
    "        km.fit(X)\n",
    "        inertias.append(km.inertia_)\n",
    "    plt.plot(n_cluster_range, inertias, marker='o')\n",
    "    plt.title('Elbow method')\n",
    "    plt.xlabel('Number of clusters')\n",
    "    plt.ylabel('Inertia')\n",
    "    plt.show()"
   ]
  },
  {
   "cell_type": "code",
   "execution_count": 83,
   "metadata": {},
   "outputs": [
    {
     "data": {
      "image/png": "[encoded data removed]",
      "text/plain": [
       "<Figure size 432x288 with 1 Axes>"
      ]
     },
     "metadata": {
      "needs_background": "light"
     },
     "output_type": "display_data"
    }
   ],
   "source": [
    "plot_inertia(kmeans, new_df2, range(1,20))"
   ]
  },
  {
   "cell_type": "code",
   "execution_count": 84,
   "metadata": {},
   "outputs": [
    {
     "data": {
      "text/plain": [
       "KMeans(algorithm='auto', copy_x=True, init='k-means++', max_iter=300,\n",
       "       n_clusters=6, n_init=10, n_jobs=None, precompute_distances='auto',\n",
       "       random_state=None, tol=0.0001, verbose=0)"
      ]
     },
     "execution_count": 84,
     "metadata": {},
     "output_type": "execute_result"
    }
   ],
   "source": [
    "kmeans6 = KMeans().set_params(n_clusters=6)\n",
    "kmeans6.fit(new_df2)"
   ]
  },
  {
   "cell_type": "code",
   "execution_count": 85,
   "metadata": {},
   "outputs": [
    {
     "data": {
      "text/plain": [
       "KMeans(algorithm='auto', copy_x=True, init='k-means++', max_iter=300,\n",
       "       n_clusters=9, n_init=10, n_jobs=None, precompute_distances='auto',\n",
       "       random_state=None, tol=0.0001, verbose=0)"
      ]
     },
     "execution_count": 85,
     "metadata": {},
     "output_type": "execute_result"
    }
   ],
   "source": [
    "kmeans9 = KMeans().set_params(n_clusters=9)\n",
    "kmeans9.fit(new_df2)"
   ]
  },
  {
   "cell_type": "code",
   "execution_count": 89,
   "metadata": {},
   "outputs": [
    {
     "name": "stdout",
     "output_type": "stream",
     "text": [
      "5    56128\n",
      "4    40489\n",
      "1    16718\n",
      "2    11236\n",
      "0    10079\n",
      "3     8502\n",
      "dtype: int64\n",
      "0    40239\n",
      "2    31131\n",
      "7    25383\n",
      "4    16718\n",
      "3    11014\n",
      "5    10079\n",
      "1     8502\n",
      "6       81\n",
      "8        5\n",
      "dtype: int64\n"
     ]
    }
   ],
   "source": [
    "new_df2"
   ]
  },
  {
   "cell_type": "code",
   "execution_count": 90,
   "metadata": {},
   "outputs": [],
   "source": [
    "from sklearn.cluster import AgglomerativeClustering\n",
    "hier = AgglomerativeClustering()"
   ]
  },
  {
   "cell_type": "code",
   "execution_count": 52,
   "metadata": {},
   "outputs": [],
   "source": [
    "grid_params = {'C': 10.**(np.arange(-7,-2))}\n",
    "grid_search2 = GridSearchCV(logit2, grid_params, cv=5, \n",
    "                           scoring='balanced_accuracy', n_jobs=-1)"
   ]
  },
  {
   "cell_type": "code",
   "execution_count": 53,
   "metadata": {},
   "outputs": [
    {
     "name": "stderr",
     "output_type": "stream",
     "text": [
      "/Users/jen/opt/anaconda3/lib/python3.7/site-packages/sklearn/linear_model/logistic.py:432: FutureWarning: Default solver will be changed to 'lbfgs' in 0.22. Specify a solver to silence this warning.\n",
      "  FutureWarning)\n"
     ]
    },
    {
     "data": {
      "text/plain": [
       "GridSearchCV(cv=5, error_score='raise-deprecating',\n",
       "             estimator=LogisticRegression(C=1.0, class_weight=None, dual=False,\n",
       "                                          fit_intercept=True,\n",
       "                                          intercept_scaling=1, l1_ratio=None,\n",
       "                                          max_iter=100, multi_class='warn',\n",
       "                                          n_jobs=None, penalty='l1',\n",
       "                                          random_state=None, solver='warn',\n",
       "                                          tol=0.0001, verbose=0,\n",
       "                                          warm_start=False),\n",
       "             iid='warn', n_jobs=-1,\n",
       "             param_grid={'C': array([1.e-07, 1.e-06, 1.e-05, 1.e-04, 1.e-03])},\n",
       "             pre_dispatch='2*n_jobs', refit=True, return_train_score=False,\n",
       "             scoring='balanced_accuracy', verbose=0)"
      ]
     },
     "execution_count": 53,
     "metadata": {},
     "output_type": "execute_result"
    }
   ],
   "source": [
    "grid_search2.fit(features3, target)"
   ]
  },
  {
   "cell_type": "code",
   "execution_count": 43,
   "metadata": {},
   "outputs": [
    {
     "data": {
      "text/plain": [
       "{'C': 1e-05}"
      ]
     },
     "execution_count": 43,
     "metadata": {},
     "output_type": "execute_result"
    }
   ],
   "source": [
    "grid_search2.best_params_"
   ]
  },
  {
   "cell_type": "code",
   "execution_count": 45,
   "metadata": {},
   "outputs": [
    {
     "data": {
      "image/png": "[encoded data removed]",
      "text/plain": [
       "<Figure size 432x288 with 1 Axes>"
      ]
     },
     "metadata": {
      "needs_background": "light"
     },
     "output_type": "display_data"
    }
   ],
   "source": [
    "newdf = pd.DataFrame(abs(grid_search2.best_estimator_.coef_.T), \n",
    "                     index=features2.columns, columns=['coefficient'])\n",
    "newdf.sort_values(by='coefficient', ascending=False).plot.bar()\n",
    "plt.title('product coefficients')\n",
    "plt.tight_layout()\n",
    "plt.show()"
   ]
  },
  {
   "cell_type": "code",
   "execution_count": 47,
   "metadata": {},
   "outputs": [
    {
     "data": {
      "text/plain": [
       "penalty               0.000000e+00\n",
       "house                 0.000000e+00\n",
       "income                0.000000e+00\n",
       "car                   0.000000e+00\n",
       "married               0.000000e+00\n",
       "legal_person          0.000000e+00\n",
       "business_license      0.000000e+00\n",
       "house_register        0.000000e+00\n",
       "id                    0.000000e+00\n",
       "is_p2p                0.000000e+00\n",
       "bank                  0.000000e+00\n",
       "early_repayment       0.000000e+00\n",
       "standard_type         0.000000e+00\n",
       "tax                   0.000000e+00\n",
       "guarantee_required    0.000000e+00\n",
       "repayment_type        0.000000e+00\n",
       "loan_cycle            0.000000e+00\n",
       "decision_cycle        0.000000e+00\n",
       "loan_term_type        0.000000e+00\n",
       "loan_term_min         0.000000e+00\n",
       "guarantee_type        0.000000e+00\n",
       "lifecost              0.000000e+00\n",
       "term                  0.000000e+00\n",
       "interest_rate_type    0.000000e+00\n",
       "socialsecurity        0.000000e+00\n",
       "loan_term_max         5.198193e-09\n",
       "loan_quota_max        3.730245e-08\n",
       "limit                 7.485874e-07\n",
       "loan_quota_min        4.154564e-06\n",
       "apply_num             3.072542e-05\n",
       "fangkuan_num          3.795837e-04\n",
       "date                  1.121107e-03\n",
       "product_type          3.001039e-03\n",
       "Name: coefficient, dtype: float64"
      ]
     },
     "execution_count": 47,
     "metadata": {},
     "output_type": "execute_result"
    }
   ],
   "source": [
    "newdf['coefficient'].sort_values()"
   ]
  },
  {
   "cell_type": "code",
   "execution_count": 48,
   "metadata": {},
   "outputs": [
    {
     "name": "stderr",
     "output_type": "stream",
     "text": [
      "/Users/jen/opt/anaconda3/lib/python3.7/site-packages/sklearn/linear_model/logistic.py:432: FutureWarning: Default solver will be changed to 'lbfgs' in 0.22. Specify a solver to silence this warning.\n",
      "  FutureWarning)\n"
     ]
    },
    {
     "data": {
      "text/plain": [
       "GridSearchCV(cv=5, error_score='raise-deprecating',\n",
       "             estimator=LogisticRegression(C=1.0, class_weight=None, dual=False,\n",
       "                                          fit_intercept=True,\n",
       "                                          intercept_scaling=1, l1_ratio=None,\n",
       "                                          max_iter=100, multi_class='warn',\n",
       "                                          n_jobs=None, penalty='l1',\n",
       "                                          random_state=None, solver='warn',\n",
       "                                          tol=0.0001, verbose=0,\n",
       "                                          warm_start=False),\n",
       "             iid='warn', n_jobs=-1,\n",
       "             param_grid={'C': array([1.e-07, 1.e-06, 1.e-05, 1.e-04, 1.e-03])},\n",
       "             pre_dispatch='2*n_jobs', refit=True, return_train_score=False,\n",
       "             scoring='balanced_accuracy', verbose=0)"
      ]
     },
     "execution_count": 48,
     "metadata": {},
     "output_type": "execute_result"
    }
   ],
   "source": [
    "grid_search2.fit(features2, target)"
   ]
  },
  {
   "cell_type": "code",
   "execution_count": 49,
   "metadata": {},
   "outputs": [
    {
     "data": {
      "text/plain": [
       "{'C': 0.0001}"
      ]
     },
     "execution_count": 49,
     "metadata": {},
     "output_type": "execute_result"
    }
   ],
   "source": [
    "grid_search2.best_params_"
   ]
  },
  {
   "cell_type": "code",
   "execution_count": 50,
   "metadata": {},
   "outputs": [
    {
     "data": {
      "image/png": "[encoded data removed]",
      "text/plain": [
       "<Figure size 432x288 with 1 Axes>"
      ]
     },
     "metadata": {
      "needs_background": "light"
     },
     "output_type": "display_data"
    }
   ],
   "source": [
    "newdf = pd.DataFrame(abs(grid_search2.best_estimator_.coef_.T), \n",
    "                     index=features2.columns, columns=['coefficient'])\n",
    "newdf.sort_values(by='coefficient', ascending=False).plot.bar()\n",
    "plt.title('product coefficients')\n",
    "plt.tight_layout()\n",
    "plt.show()"
   ]
  },
  {
   "cell_type": "code",
   "execution_count": 51,
   "metadata": {},
   "outputs": [
    {
     "data": {
      "text/plain": [
       "penalty               0.000000e+00\n",
       "income                0.000000e+00\n",
       "car                   0.000000e+00\n",
       "married               0.000000e+00\n",
       "legal_person          0.000000e+00\n",
       "business_license      0.000000e+00\n",
       "house_register        0.000000e+00\n",
       "id                    0.000000e+00\n",
       "is_p2p                0.000000e+00\n",
       "socialsecurity        0.000000e+00\n",
       "early_repayment       0.000000e+00\n",
       "standard_type         0.000000e+00\n",
       "guarantee_required    0.000000e+00\n",
       "interest_rate_type    0.000000e+00\n",
       "repayment_type        0.000000e+00\n",
       "bank                  0.000000e+00\n",
       "decision_cycle        0.000000e+00\n",
       "loan_term_type        0.000000e+00\n",
       "loan_term_min         0.000000e+00\n",
       "guarantee_type        0.000000e+00\n",
       "lifecost              0.000000e+00\n",
       "term                  0.000000e+00\n",
       "house                 0.000000e+00\n",
       "tax                   0.000000e+00\n",
       "loan_term_max         5.334704e-09\n",
       "loan_quota_max        3.072778e-08\n",
       "limit                 1.695258e-06\n",
       "loan_quota_min        3.509168e-06\n",
       "apply_num             5.136779e-05\n",
       "fangkuan_num          4.158916e-04\n",
       "date                  9.741181e-04\n",
       "product_type          8.074512e-03\n",
       "loan_cycle            2.091260e-02\n",
       "Name: coefficient, dtype: float64"
      ]
     },
     "execution_count": 51,
     "metadata": {},
     "output_type": "execute_result"
    }
   ],
   "source": [
    "newdf['coefficient'].sort_values()"
   ]
  },
  {
   "cell_type": "code",
   "execution_count": 2,
   "metadata": {},
   "outputs": [
    {
     "ename": "NameError",
     "evalue": "name 'features' is not defined",
     "output_type": "error",
     "traceback": [
      "\u001b[0;31m---------------------------------------------------------------------------\u001b[0m",
      "\u001b[0;31mNameError\u001b[0m                                 Traceback (most recent call last)",
      "\u001b[0;32m<ipython-input-2-6dafc91b0a7f>\u001b[0m in \u001b[0;36m<module>\u001b[0;34m\u001b[0m\n\u001b[0;32m----> 1\u001b[0;31m \u001b[0mfeatures\u001b[0m\u001b[0;34m[\u001b[0m\u001b[0;34m'fangkuan_num'\u001b[0m\u001b[0;34m]\u001b[0m\u001b[0;34m\u001b[0m\u001b[0;34m\u001b[0m\u001b[0m\n\u001b[0m",
      "\u001b[0;31mNameError\u001b[0m: name 'features' is not defined"
     ]
    }
   ],
   "source": [
    "features['fangkuan_num']"
   ]
  },
  {
   "cell_type": "code",
   "execution_count": null,
   "metadata": {},
   "outputs": [],
   "source": []
  },
  {
   "cell_type": "code",
   "execution_count": null,
   "metadata": {},
   "outputs": [],
   "source": []
  },
  {
   "cell_type": "code",
   "execution_count": null,
   "metadata": {},
   "outputs": [],
   "source": []
  },
  {
   "cell_type": "code",
   "execution_count": null,
   "metadata": {},
   "outputs": [],
   "source": []
  },
  {
   "cell_type": "code",
   "execution_count": null,
   "metadata": {},
   "outputs": [],
   "source": []
  },
  {
   "cell_type": "code",
   "execution_count": 16,
   "metadata": {},
   "outputs": [],
   "source": [
    "df2 = pd.read_csv(\"../order_quality.csv\")"
   ]
  },
  {
   "cell_type": "code",
   "execution_count": null,
   "metadata": {},
   "outputs": [],
   "source": []
  },
  {
   "cell_type": "code",
   "execution_count": 17,
   "metadata": {},
   "outputs": [
    {
     "data": {
      "text/plain": [
       "user_id            object\n",
       "product_id         object\n",
       "date                int64\n",
       "term                int64\n",
       "limit             float64\n",
       "                   ...   \n",
       "mobile_quality    float64\n",
       "standard_type     float64\n",
       "guarantee_type    float64\n",
       "bank_id            object\n",
       "counts            float64\n",
       "Length: 95, dtype: object"
      ]
     },
     "execution_count": 17,
     "metadata": {},
     "output_type": "execute_result"
    }
   ],
   "source": [
    "df2.dtypes"
   ]
  },
  {
   "cell_type": "code",
   "execution_count": 18,
   "metadata": {},
   "outputs": [],
   "source": [
    "df2 = df2.drop(df2.columns[df2.isnull().sum()/df2.shape[0] > 0.5], axis=1)"
   ]
  },
  {
   "cell_type": "code",
   "execution_count": 19,
   "metadata": {},
   "outputs": [
    {
     "data": {
      "text/plain": [
       "user_id                    object\n",
       "product_id                 object\n",
       "date                        int64\n",
       "term                        int64\n",
       "limit                     float64\n",
       "result                      int64\n",
       "city_id                    object\n",
       "application_type          float64\n",
       "application_term          float64\n",
       "application_limit         float64\n",
       "op_type                   float64\n",
       "col_type                  float64\n",
       "user_loan_experience      float64\n",
       "user_has_car              float64\n",
       "user_social_security      float64\n",
       "qid77                     float64\n",
       "user_income_by_card       float64\n",
       "user_work_period          float64\n",
       "loan_limit_n              float64\n",
       "op_type_n                 float64\n",
       "col_type_n                float64\n",
       "user_loan_experience_n    float64\n",
       "user_has_car_n            float64\n",
       "user_social_security_n    float64\n",
       "qid77_n                   float64\n",
       "cash_receipts_n           float64\n",
       "user_income_by_card_n     float64\n",
       "user_work_period_n        float64\n",
       "user_age_n                float64\n",
       "product_type              float64\n",
       "apply_from                float64\n",
       "platform                  float64\n",
       "spam_score                float64\n",
       "mobile_verify             float64\n",
       "source                    float64\n",
       "medium                    float64\n",
       "is_paid                   float64\n",
       "quality                   float64\n",
       "mobile_source             float64\n",
       "mobile_medium             float64\n",
       "mobile_is_paid            float64\n",
       "mobile_quality            float64\n",
       "standard_type             float64\n",
       "guarantee_type            float64\n",
       "bank_id                    object\n",
       "counts                    float64\n",
       "dtype: object"
      ]
     },
     "execution_count": 19,
     "metadata": {},
     "output_type": "execute_result"
    }
   ],
   "source": [
    "df2.dtypes"
   ]
  },
  {
   "cell_type": "code",
   "execution_count": 20,
   "metadata": {},
   "outputs": [],
   "source": [
    "features2 = df2.drop(['user_id', 'product_id', 'city_id', 'bank_id', 'result'], axis=1)\n",
    "target2 = df2['result']"
   ]
  },
  {
   "cell_type": "code",
   "execution_count": 21,
   "metadata": {},
   "outputs": [
    {
     "data": {
      "text/plain": [
       "date                           0\n",
       "term                           0\n",
       "limit                          0\n",
       "application_type            4395\n",
       "application_term            4395\n",
       "application_limit           4395\n",
       "op_type                    38550\n",
       "col_type                  103626\n",
       "user_loan_experience       87898\n",
       "user_has_car              120599\n",
       "user_social_security      138701\n",
       "qid77                     134258\n",
       "user_income_by_card       113766\n",
       "user_work_period          131021\n",
       "loan_limit_n               36346\n",
       "op_type_n                  18162\n",
       "col_type_n                 71512\n",
       "user_loan_experience_n     51199\n",
       "user_has_car_n             96613\n",
       "user_social_security_n    112346\n",
       "qid77_n                   109724\n",
       "cash_receipts_n           110110\n",
       "user_income_by_card_n      81972\n",
       "user_work_period_n         95672\n",
       "user_age_n                141002\n",
       "product_type                4395\n",
       "apply_from                  4395\n",
       "platform                    4395\n",
       "spam_score                  4395\n",
       "mobile_verify               4395\n",
       "source                      4395\n",
       "medium                      4395\n",
       "is_paid                    21689\n",
       "quality                    21689\n",
       "mobile_source               4395\n",
       "mobile_medium               4395\n",
       "mobile_is_paid             91684\n",
       "mobile_quality             91684\n",
       "standard_type              14568\n",
       "guarantee_type             14568\n",
       "counts                      4395\n",
       "dtype: int64"
      ]
     },
     "execution_count": 21,
     "metadata": {},
     "output_type": "execute_result"
    }
   ],
   "source": [
    "features2.isnull().sum(axis=0)"
   ]
  },
  {
   "cell_type": "code",
   "execution_count": 115,
   "metadata": {},
   "outputs": [
    {
     "data": {
      "text/plain": [
       "date                         0\n",
       "term                         0\n",
       "limit                        0\n",
       "application_type          4395\n",
       "application_term          4395\n",
       "application_limit         4395\n",
       "op_type                   4395\n",
       "col_type                  4395\n",
       "user_loan_experience      4395\n",
       "user_has_car              4395\n",
       "user_social_security      4395\n",
       "qid77                     4395\n",
       "user_income_by_card       4395\n",
       "user_work_period          4395\n",
       "loan_limit_n              4395\n",
       "op_type_n                 4395\n",
       "col_type_n                4395\n",
       "user_loan_experience_n    4395\n",
       "user_has_car_n            4395\n",
       "user_social_security_n    4395\n",
       "qid77_n                   4395\n",
       "cash_receipts_n           4395\n",
       "user_income_by_card_n     4395\n",
       "user_work_period_n        4395\n",
       "user_age_n                4395\n",
       "product_type              4395\n",
       "apply_from                4395\n",
       "platform                  4395\n",
       "spam_score                4395\n",
       "mobile_verify             4395\n",
       "source                    4395\n",
       "medium                    4395\n",
       "is_paid                   4395\n",
       "quality                   4395\n",
       "mobile_source             4395\n",
       "mobile_medium             4395\n",
       "mobile_is_paid            4395\n",
       "mobile_quality            4395\n",
       "standard_type             4395\n",
       "guarantee_type            4395\n",
       "counts                    4395\n",
       "dtype: int64"
      ]
     },
     "execution_count": 115,
     "metadata": {},
     "output_type": "execute_result"
    }
   ],
   "source": [
    "features2.loc[features2['application_type'].isnull()].isnull().sum()#.sum(axis=0)"
   ]
  },
  {
   "cell_type": "code",
   "execution_count": 22,
   "metadata": {},
   "outputs": [
    {
     "data": {
      "text/plain": [
       "(282707, 41)"
      ]
     },
     "execution_count": 22,
     "metadata": {},
     "output_type": "execute_result"
    }
   ],
   "source": [
    "features2.shape"
   ]
  },
  {
   "cell_type": "code",
   "execution_count": 23,
   "metadata": {},
   "outputs": [
    {
     "data": {
      "text/plain": [
       "0.015546130799732586"
      ]
     },
     "execution_count": 23,
     "metadata": {},
     "output_type": "execute_result"
    }
   ],
   "source": [
    "4395/282707"
   ]
  },
  {
   "cell_type": "code",
   "execution_count": 135,
   "metadata": {},
   "outputs": [],
   "source": [
    "#features2 = features2.loc[~features2['application_type'].isnull()]"
   ]
  },
  {
   "cell_type": "code",
   "execution_count": 24,
   "metadata": {},
   "outputs": [],
   "source": [
    "features2.fillna(-4, inplace=True)"
   ]
  },
  {
   "cell_type": "code",
   "execution_count": 123,
   "metadata": {},
   "outputs": [],
   "source": [
    "#features3 = pd.DataFrame()\n",
    "#for column in features2.columns:\n",
    "#    column_vals = features2[column].values[features2[column].values != np.nan]\n",
    "#    features3[column] = features2[column].fillna(random.choice(column_vals))"
   ]
  },
  {
   "cell_type": "code",
   "execution_count": 124,
   "metadata": {},
   "outputs": [
    {
     "data": {
      "text/plain": [
       "date                      0\n",
       "term                      0\n",
       "limit                     0\n",
       "application_type          0\n",
       "application_term          0\n",
       "application_limit         0\n",
       "op_type                   0\n",
       "col_type                  0\n",
       "user_loan_experience      0\n",
       "user_has_car              0\n",
       "user_social_security      0\n",
       "qid77                     0\n",
       "user_income_by_card       0\n",
       "user_work_period          0\n",
       "loan_limit_n              0\n",
       "op_type_n                 0\n",
       "col_type_n                0\n",
       "user_loan_experience_n    0\n",
       "user_has_car_n            0\n",
       "user_social_security_n    0\n",
       "qid77_n                   0\n",
       "cash_receipts_n           0\n",
       "user_income_by_card_n     0\n",
       "user_work_period_n        0\n",
       "user_age_n                0\n",
       "product_type              0\n",
       "apply_from                0\n",
       "platform                  0\n",
       "spam_score                0\n",
       "mobile_verify             0\n",
       "source                    0\n",
       "medium                    0\n",
       "is_paid                   0\n",
       "quality                   0\n",
       "mobile_source             0\n",
       "mobile_medium             0\n",
       "mobile_is_paid            0\n",
       "mobile_quality            0\n",
       "standard_type             0\n",
       "guarantee_type            0\n",
       "counts                    0\n",
       "dtype: int64"
      ]
     },
     "execution_count": 124,
     "metadata": {},
     "output_type": "execute_result"
    }
   ],
   "source": [
    "#features3.isnull().sum(axis=0)"
   ]
  },
  {
   "cell_type": "code",
   "execution_count": 110,
   "metadata": {},
   "outputs": [
    {
     "data": {
      "text/plain": [
       "83503"
      ]
     },
     "execution_count": 110,
     "metadata": {},
     "output_type": "execute_result"
    }
   ],
   "source": [
    "#features3['user_loan_experience'].isnull().sum()"
   ]
  },
  {
   "cell_type": "code",
   "execution_count": 25,
   "metadata": {},
   "outputs": [
    {
     "data": {
      "text/html": [
       "<div>\n",
       "<style scoped>\n",
       "    .dataframe tbody tr th:only-of-type {\n",
       "        vertical-align: middle;\n",
       "    }\n",
       "\n",
       "    .dataframe tbody tr th {\n",
       "        vertical-align: top;\n",
       "    }\n",
       "\n",
       "    .dataframe thead th {\n",
       "        text-align: right;\n",
       "    }\n",
       "</style>\n",
       "<table border=\"1\" class=\"dataframe\">\n",
       "  <thead>\n",
       "    <tr style=\"text-align: right;\">\n",
       "      <th></th>\n",
       "      <th>date</th>\n",
       "      <th>term</th>\n",
       "      <th>limit</th>\n",
       "      <th>application_type</th>\n",
       "      <th>application_term</th>\n",
       "      <th>application_limit</th>\n",
       "      <th>op_type</th>\n",
       "      <th>col_type</th>\n",
       "      <th>user_loan_experience</th>\n",
       "      <th>user_has_car</th>\n",
       "      <th>...</th>\n",
       "      <th>medium</th>\n",
       "      <th>is_paid</th>\n",
       "      <th>quality</th>\n",
       "      <th>mobile_source</th>\n",
       "      <th>mobile_medium</th>\n",
       "      <th>mobile_is_paid</th>\n",
       "      <th>mobile_quality</th>\n",
       "      <th>standard_type</th>\n",
       "      <th>guarantee_type</th>\n",
       "      <th>counts</th>\n",
       "    </tr>\n",
       "  </thead>\n",
       "  <tbody>\n",
       "    <tr>\n",
       "      <td>0</td>\n",
       "      <td>754</td>\n",
       "      <td>24</td>\n",
       "      <td>10.0</td>\n",
       "      <td>1.0</td>\n",
       "      <td>24.0</td>\n",
       "      <td>10.0</td>\n",
       "      <td>-4.0</td>\n",
       "      <td>-4.0</td>\n",
       "      <td>-4.0</td>\n",
       "      <td>-4.0</td>\n",
       "      <td>...</td>\n",
       "      <td>121.0</td>\n",
       "      <td>0.0</td>\n",
       "      <td>0.0</td>\n",
       "      <td>185.0</td>\n",
       "      <td>117.0</td>\n",
       "      <td>0.0</td>\n",
       "      <td>1.0</td>\n",
       "      <td>1.0</td>\n",
       "      <td>1.0</td>\n",
       "      <td>6.0</td>\n",
       "    </tr>\n",
       "    <tr>\n",
       "      <td>1</td>\n",
       "      <td>754</td>\n",
       "      <td>24</td>\n",
       "      <td>10.0</td>\n",
       "      <td>2.0</td>\n",
       "      <td>36.0</td>\n",
       "      <td>10.0</td>\n",
       "      <td>2.0</td>\n",
       "      <td>-4.0</td>\n",
       "      <td>-4.0</td>\n",
       "      <td>-4.0</td>\n",
       "      <td>...</td>\n",
       "      <td>121.0</td>\n",
       "      <td>0.0</td>\n",
       "      <td>0.0</td>\n",
       "      <td>185.0</td>\n",
       "      <td>117.0</td>\n",
       "      <td>0.0</td>\n",
       "      <td>1.0</td>\n",
       "      <td>1.0</td>\n",
       "      <td>1.0</td>\n",
       "      <td>6.0</td>\n",
       "    </tr>\n",
       "    <tr>\n",
       "      <td>2</td>\n",
       "      <td>754</td>\n",
       "      <td>24</td>\n",
       "      <td>20.0</td>\n",
       "      <td>1.0</td>\n",
       "      <td>12.0</td>\n",
       "      <td>20.0</td>\n",
       "      <td>-4.0</td>\n",
       "      <td>-4.0</td>\n",
       "      <td>-4.0</td>\n",
       "      <td>-4.0</td>\n",
       "      <td>...</td>\n",
       "      <td>57.0</td>\n",
       "      <td>0.0</td>\n",
       "      <td>1.0</td>\n",
       "      <td>221.0</td>\n",
       "      <td>231.0</td>\n",
       "      <td>0.0</td>\n",
       "      <td>1.0</td>\n",
       "      <td>1.0</td>\n",
       "      <td>2.0</td>\n",
       "      <td>6.0</td>\n",
       "    </tr>\n",
       "    <tr>\n",
       "      <td>3</td>\n",
       "      <td>754</td>\n",
       "      <td>24</td>\n",
       "      <td>20.0</td>\n",
       "      <td>2.0</td>\n",
       "      <td>24.0</td>\n",
       "      <td>20.0</td>\n",
       "      <td>3.0</td>\n",
       "      <td>-4.0</td>\n",
       "      <td>-4.0</td>\n",
       "      <td>-4.0</td>\n",
       "      <td>...</td>\n",
       "      <td>57.0</td>\n",
       "      <td>0.0</td>\n",
       "      <td>1.0</td>\n",
       "      <td>221.0</td>\n",
       "      <td>231.0</td>\n",
       "      <td>0.0</td>\n",
       "      <td>1.0</td>\n",
       "      <td>1.0</td>\n",
       "      <td>2.0</td>\n",
       "      <td>6.0</td>\n",
       "    </tr>\n",
       "    <tr>\n",
       "      <td>4</td>\n",
       "      <td>754</td>\n",
       "      <td>12</td>\n",
       "      <td>10.0</td>\n",
       "      <td>2.0</td>\n",
       "      <td>12.0</td>\n",
       "      <td>10.0</td>\n",
       "      <td>3.0</td>\n",
       "      <td>-4.0</td>\n",
       "      <td>-4.0</td>\n",
       "      <td>-4.0</td>\n",
       "      <td>...</td>\n",
       "      <td>123.0</td>\n",
       "      <td>0.0</td>\n",
       "      <td>0.0</td>\n",
       "      <td>151.0</td>\n",
       "      <td>231.0</td>\n",
       "      <td>0.0</td>\n",
       "      <td>1.0</td>\n",
       "      <td>1.0</td>\n",
       "      <td>1.0</td>\n",
       "      <td>12.0</td>\n",
       "    </tr>\n",
       "  </tbody>\n",
       "</table>\n",
       "<p>5 rows × 41 columns</p>\n",
       "</div>"
      ],
      "text/plain": [
       "   date  term  limit  application_type  application_term  application_limit  \\\n",
       "0   754    24   10.0               1.0              24.0               10.0   \n",
       "1   754    24   10.0               2.0              36.0               10.0   \n",
       "2   754    24   20.0               1.0              12.0               20.0   \n",
       "3   754    24   20.0               2.0              24.0               20.0   \n",
       "4   754    12   10.0               2.0              12.0               10.0   \n",
       "\n",
       "   op_type  col_type  user_loan_experience  user_has_car  ...  medium  \\\n",
       "0     -4.0      -4.0                  -4.0          -4.0  ...   121.0   \n",
       "1      2.0      -4.0                  -4.0          -4.0  ...   121.0   \n",
       "2     -4.0      -4.0                  -4.0          -4.0  ...    57.0   \n",
       "3      3.0      -4.0                  -4.0          -4.0  ...    57.0   \n",
       "4      3.0      -4.0                  -4.0          -4.0  ...   123.0   \n",
       "\n",
       "   is_paid  quality  mobile_source  mobile_medium  mobile_is_paid  \\\n",
       "0      0.0      0.0          185.0          117.0             0.0   \n",
       "1      0.0      0.0          185.0          117.0             0.0   \n",
       "2      0.0      1.0          221.0          231.0             0.0   \n",
       "3      0.0      1.0          221.0          231.0             0.0   \n",
       "4      0.0      0.0          151.0          231.0             0.0   \n",
       "\n",
       "   mobile_quality  standard_type  guarantee_type  counts  \n",
       "0             1.0            1.0             1.0     6.0  \n",
       "1             1.0            1.0             1.0     6.0  \n",
       "2             1.0            1.0             2.0     6.0  \n",
       "3             1.0            1.0             2.0     6.0  \n",
       "4             1.0            1.0             1.0    12.0  \n",
       "\n",
       "[5 rows x 41 columns]"
      ]
     },
     "execution_count": 25,
     "metadata": {},
     "output_type": "execute_result"
    }
   ],
   "source": [
    "features2.head()"
   ]
  },
  {
   "cell_type": "code",
   "execution_count": 26,
   "metadata": {},
   "outputs": [],
   "source": [
    "randomforest2 = RandomForestClassifier()"
   ]
  },
  {
   "cell_type": "code",
   "execution_count": 27,
   "metadata": {},
   "outputs": [
    {
     "data": {
      "text/plain": [
       "GridSearchCV(cv=5, error_score='raise-deprecating',\n",
       "             estimator=RandomForestClassifier(bootstrap=True, class_weight=None,\n",
       "                                              criterion='gini', max_depth=None,\n",
       "                                              max_features='auto',\n",
       "                                              max_leaf_nodes=None,\n",
       "                                              min_impurity_decrease=0.0,\n",
       "                                              min_impurity_split=None,\n",
       "                                              min_samples_leaf=1,\n",
       "                                              min_samples_split=2,\n",
       "                                              min_weight_fraction_leaf=0.0,\n",
       "                                              n_estimators='warn', n_jobs=None,\n",
       "                                              oob_score=False,\n",
       "                                              random_state=None, verbose=0,\n",
       "                                              warm_start=False),\n",
       "             iid='warn', n_jobs=-1,\n",
       "             param_grid={'max_depth': range(1, 10),\n",
       "                         'n_estimators': range(5, 50, 5)},\n",
       "             pre_dispatch='2*n_jobs', refit=True, return_train_score=False,\n",
       "             scoring='balanced_accuracy', verbose=0)"
      ]
     },
     "execution_count": 27,
     "metadata": {},
     "output_type": "execute_result"
    }
   ],
   "source": [
    "grid_params2 = { 'max_depth': range(1,10,1), 'n_estimators': range(5,50,5)}\n",
    "grid_search2 = GridSearchCV(randomforest2, grid_params, cv=5, \n",
    "                           scoring='balanced_accuracy', n_jobs=-1)\n",
    "grid_search2.fit(features2, target2)"
   ]
  },
  {
   "cell_type": "code",
   "execution_count": 28,
   "metadata": {},
   "outputs": [
    {
     "data": {
      "text/plain": [
       "{'max_depth': 9, 'n_estimators': 5}"
      ]
     },
     "execution_count": 28,
     "metadata": {},
     "output_type": "execute_result"
    }
   ],
   "source": [
    "grid_search2.best_params_"
   ]
  },
  {
   "cell_type": "code",
   "execution_count": 29,
   "metadata": {},
   "outputs": [
    {
     "data": {
      "text/plain": [
       "0.5040860806503792"
      ]
     },
     "execution_count": 29,
     "metadata": {},
     "output_type": "execute_result"
    }
   ],
   "source": [
    "grid_search2.best_score_"
   ]
  },
  {
   "cell_type": "code",
   "execution_count": 30,
   "metadata": {},
   "outputs": [],
   "source": [
    "best_est2 = grid_search2.best_estimator_"
   ]
  },
  {
   "cell_type": "code",
   "execution_count": 31,
   "metadata": {},
   "outputs": [
    {
     "data": {
      "image/png": "[encoded data removed]",
      "text/plain": [
       "<Figure size 432x288 with 1 Axes>"
      ]
     },
     "metadata": {
      "needs_background": "light"
     },
     "output_type": "display_data"
    }
   ],
   "source": [
    "newdf = pd.DataFrame(best_est2.feature_importances_, index=features2.columns, \n",
    "    columns=['importance'])\n",
    "newdf.sort_values(by='importance', ascending=False).plot.bar()\n",
    "plt.title('product feature importances')\n",
    "plt.tight_layout()\n",
    "plt.show()"
   ]
  },
  {
   "cell_type": "code",
   "execution_count": 32,
   "metadata": {},
   "outputs": [],
   "source": [
    "best_est2 = best_est2.fit(features2, target2)"
   ]
  },
  {
   "cell_type": "code",
   "execution_count": 33,
   "metadata": {},
   "outputs": [
    {
     "data": {
      "text/plain": [
       "RandomForestClassifier(bootstrap=True, class_weight=None, criterion='gini',\n",
       "                       max_depth=9, max_features='auto', max_leaf_nodes=None,\n",
       "                       min_impurity_decrease=0.0, min_impurity_split=None,\n",
       "                       min_samples_leaf=1, min_samples_split=2,\n",
       "                       min_weight_fraction_leaf=0.0, n_estimators=5,\n",
       "                       n_jobs=None, oob_score=False, random_state=None,\n",
       "                       verbose=0, warm_start=False)"
      ]
     },
     "execution_count": 33,
     "metadata": {},
     "output_type": "execute_result"
    }
   ],
   "source": [
    "best_est2.fit(features2, target2)"
   ]
  },
  {
   "cell_type": "code",
   "execution_count": 34,
   "metadata": {},
   "outputs": [
    {
     "data": {
      "text/plain": [
       "0.8468626528526001"
      ]
     },
     "execution_count": 34,
     "metadata": {},
     "output_type": "execute_result"
    }
   ],
   "source": [
    "best_est2.score(features2, target2)"
   ]
  },
  {
   "cell_type": "code",
   "execution_count": 35,
   "metadata": {},
   "outputs": [
    {
     "data": {
      "image/png": "[encoded data removed]",
      "text/plain": [
       "<Figure size 432x288 with 1 Axes>"
      ]
     },
     "metadata": {
      "needs_background": "light"
     },
     "output_type": "display_data"
    }
   ],
   "source": [
    "newdf = pd.DataFrame(best_est2.feature_importances_, index=features2.columns, \n",
    "    columns=['importance'])\n",
    "newdf.sort_values(by='importance', ascending=False).plot.bar()\n",
    "plt.title('product feature importances')\n",
    "plt.tight_layout()\n",
    "plt.show()"
   ]
  },
  {
   "cell_type": "code",
   "execution_count": null,
   "metadata": {},
   "outputs": [],
   "source": []
  }
 ],
 "metadata": {
  "kernelspec": {
   "display_name": "Python 3",
   "language": "python",
   "name": "python3"
  },
  "language_info": {
   "codemirror_mode": {
    "name": "ipython",
    "version": 3
   },
   "file_extension": ".py",
   "mimetype": "text/x-python",
   "name": "python",
   "nbconvert_exporter": "python",
   "pygments_lexer": "ipython3",
   "version": "3.7.4"
  }
 },
 "nbformat": 4,
 "nbformat_minor": 2
}
