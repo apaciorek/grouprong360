{
 "cells": [
  {
   "cell_type": "code",
   "execution_count": 1,
   "metadata": {},
   "outputs": [],
   "source": [
    "import pandas as pd\n",
    "import numpy as np\n",
    "import matplotlib.pyplot as plt\n",
    "from scipy.stats import chi2_contingency\n",
    "%matplotlib inline\n",
    "from sklearn.ensemble import RandomForestClassifier\n",
    "from sklearn.model_selection import GridSearchCV\n",
    "from sklearn.preprocessing import LabelEncoder"
   ]
  },
  {
   "cell_type": "markdown",
   "metadata": {},
   "source": [
    "### Looking at the dataframe and how to impute any missing values"
   ]
  },
  {
   "cell_type": "code",
   "execution_count": 2,
   "metadata": {},
   "outputs": [],
   "source": [
    "df = pd.read_csv(\"../order_product.csv\")"
   ]
  },
  {
   "cell_type": "code",
   "execution_count": 3,
   "metadata": {},
   "outputs": [
    {
     "data": {
      "text/plain": [
       "user_id                   0\n",
       "product_id                0\n",
       "date                      0\n",
       "term                      0\n",
       "limit                     0\n",
       "result                    0\n",
       "city_id                   0\n",
       "bank_id                   0\n",
       "product_type              0\n",
       "guarantee_type            0\n",
       "loan_term_min             0\n",
       "loan_term_max             0\n",
       "loan_term_type            0\n",
       "decision_cycle            0\n",
       "loan_cycle                0\n",
       "repayment_type            0\n",
       "loan_quota_min            0\n",
       "loan_quota_max            0\n",
       "interest_rate_type        0\n",
       "guarantee_required        0\n",
       "standard_type             0\n",
       "apply_num                 0\n",
       "fangkuan_num              0\n",
       "is_p2p                    0\n",
       "id                        0\n",
       "house_register            0\n",
       "business_license          0\n",
       "legal_person              0\n",
       "married                   0\n",
       "car                       0\n",
       "income                    0\n",
       "house                     0\n",
       "tax                       0\n",
       "socialsecurity            0\n",
       "bank                      0\n",
       "lifecost                  0\n",
       "early_repayment       46007\n",
       "penalty               46385\n",
       "dtype: int64"
      ]
     },
     "execution_count": 3,
     "metadata": {},
     "output_type": "execute_result"
    }
   ],
   "source": [
    "df.isnull().sum(axis=0)"
   ]
  },
  {
   "cell_type": "markdown",
   "metadata": {},
   "source": [
    "### Two columns with missing values: early_repayment and penalty\n",
    "Contingency tables below show there may be a dependence of result on \n",
    "the missingness "
   ]
  },
  {
   "cell_type": "code",
   "execution_count": 4,
   "metadata": {},
   "outputs": [
    {
     "data": {
      "text/html": [
       "<div>\n",
       "<style scoped>\n",
       "    .dataframe tbody tr th:only-of-type {\n",
       "        vertical-align: middle;\n",
       "    }\n",
       "\n",
       "    .dataframe tbody tr th {\n",
       "        vertical-align: top;\n",
       "    }\n",
       "\n",
       "    .dataframe thead th {\n",
       "        text-align: right;\n",
       "    }\n",
       "</style>\n",
       "<table border=\"1\" class=\"dataframe\">\n",
       "  <thead>\n",
       "    <tr style=\"text-align: right;\">\n",
       "      <th>early_repayment</th>\n",
       "      <th>NaN</th>\n",
       "      <th>0.0</th>\n",
       "      <th>1.0</th>\n",
       "    </tr>\n",
       "    <tr>\n",
       "      <th>result</th>\n",
       "      <th></th>\n",
       "      <th></th>\n",
       "      <th></th>\n",
       "    </tr>\n",
       "  </thead>\n",
       "  <tbody>\n",
       "    <tr>\n",
       "      <td>0</td>\n",
       "      <td>0.903471</td>\n",
       "      <td>0.873016</td>\n",
       "      <td>0.794548</td>\n",
       "    </tr>\n",
       "    <tr>\n",
       "      <td>1</td>\n",
       "      <td>0.096529</td>\n",
       "      <td>0.126984</td>\n",
       "      <td>0.205452</td>\n",
       "    </tr>\n",
       "  </tbody>\n",
       "</table>\n",
       "</div>"
      ],
      "text/plain": [
       "early_repayment       NaN       0.0       1.0\n",
       "result                                       \n",
       "0                0.903471  0.873016  0.794548\n",
       "1                0.096529  0.126984  0.205452"
      ]
     },
     "execution_count": 4,
     "metadata": {},
     "output_type": "execute_result"
    }
   ],
   "source": [
    "df.fillna(-4).groupby('early_repayment')['result'].value_counts(normalize=True).\\\n",
    "    rename('values').reset_index().pivot(index='result', columns='early_repayment', \n",
    "            values='values').rename(columns={-4:np.nan})"
   ]
  },
  {
   "cell_type": "code",
   "execution_count": 5,
   "metadata": {},
   "outputs": [
    {
     "data": {
      "text/html": [
       "<div>\n",
       "<style scoped>\n",
       "    .dataframe tbody tr th:only-of-type {\n",
       "        vertical-align: middle;\n",
       "    }\n",
       "\n",
       "    .dataframe tbody tr th {\n",
       "        vertical-align: top;\n",
       "    }\n",
       "\n",
       "    .dataframe thead th {\n",
       "        text-align: right;\n",
       "    }\n",
       "</style>\n",
       "<table border=\"1\" class=\"dataframe\">\n",
       "  <thead>\n",
       "    <tr style=\"text-align: right;\">\n",
       "      <th>penalty</th>\n",
       "      <th>NaN</th>\n",
       "      <th>0.0</th>\n",
       "      <th>1.0</th>\n",
       "    </tr>\n",
       "    <tr>\n",
       "      <th>result</th>\n",
       "      <th></th>\n",
       "      <th></th>\n",
       "      <th></th>\n",
       "    </tr>\n",
       "  </thead>\n",
       "  <tbody>\n",
       "    <tr>\n",
       "      <td>0</td>\n",
       "      <td>0.903223</td>\n",
       "      <td>0.85639</td>\n",
       "      <td>0.781994</td>\n",
       "    </tr>\n",
       "    <tr>\n",
       "      <td>1</td>\n",
       "      <td>0.096777</td>\n",
       "      <td>0.14361</td>\n",
       "      <td>0.218006</td>\n",
       "    </tr>\n",
       "  </tbody>\n",
       "</table>\n",
       "</div>"
      ],
      "text/plain": [
       "penalty       NaN      0.0       1.0\n",
       "result                              \n",
       "0        0.903223  0.85639  0.781994\n",
       "1        0.096777  0.14361  0.218006"
      ]
     },
     "execution_count": 5,
     "metadata": {},
     "output_type": "execute_result"
    }
   ],
   "source": [
    "df.fillna(-4).groupby('penalty')['result'].value_counts(normalize=True).\\\n",
    "    rename('values').reset_index().pivot(index='result',columns='penalty', \n",
    "        values='values').rename(columns={-4:np.nan})"
   ]
  },
  {
   "cell_type": "markdown",
   "metadata": {},
   "source": [
    "### Set up for random forest classifier"
   ]
  },
  {
   "cell_type": "code",
   "execution_count": 4,
   "metadata": {},
   "outputs": [],
   "source": [
    "randomforest = RandomForestClassifier()"
   ]
  },
  {
   "cell_type": "code",
   "execution_count": 3,
   "metadata": {},
   "outputs": [],
   "source": [
    "## for the features I drop the categorical variables that seem to hold limited info\n",
    "features = df.drop(['user_id','product_id','bank_id','city_id', 'result'], axis=1)\n",
    "target = df['result']"
   ]
  },
  {
   "cell_type": "code",
   "execution_count": 49,
   "metadata": {},
   "outputs": [],
   "source": [
    "grid_params = {#'criterion':['gini','entropy'], \n",
    "               'max_depth': range(12,20,2),        # 13 range(1, 16, 3)    # 16 range(10,17,2)   # 18\n",
    "               'max_features': range(6,11,2),      #  8 range(4, 10, 2)    # 8 range(6,11,2)     # 6\n",
    "               'min_samples_leaf': range(5,13,2),  #  7 range(1, 10, 3)    # 9 range(5,10,2)     # 7\n",
    "               'n_estimators': range(50,101,10)}   # 70 range(10, 100, 20) # 70 range(50,101,20) # 80\n",
    "grid_search = GridSearchCV(randomforest, grid_params, cv=5, \n",
    "                           scoring='f1', n_jobs=-1)"
   ]
  },
  {
   "cell_type": "markdown",
   "metadata": {},
   "source": [
    "#### try with filling the missing values with a completely new number"
   ]
  },
  {
   "cell_type": "code",
   "execution_count": 50,
   "metadata": {},
   "outputs": [
    {
     "data": {
      "text/plain": [
       "GridSearchCV(cv=5, error_score='raise-deprecating',\n",
       "             estimator=RandomForestClassifier(bootstrap=True, class_weight=None,\n",
       "                                              criterion='gini', max_depth=None,\n",
       "                                              max_features='auto',\n",
       "                                              max_leaf_nodes=None,\n",
       "                                              min_impurity_decrease=0.0,\n",
       "                                              min_impurity_split=None,\n",
       "                                              min_samples_leaf=1,\n",
       "                                              min_samples_split=2,\n",
       "                                              min_weight_fraction_leaf=0.0,\n",
       "                                              n_estimators='warn', n_jobs=None,\n",
       "                                              oob_score=False,\n",
       "                                              random_state=None, verbose=0,\n",
       "                                              warm_start=False),\n",
       "             iid='warn', n_jobs=-1,\n",
       "             param_grid={'max_depth': range(12, 20, 2),\n",
       "                         'max_features': range(6, 11, 2),\n",
       "                         'min_samples_leaf': range(5, 13, 2),\n",
       "                         'n_estimators': range(50, 101, 10)},\n",
       "             pre_dispatch='2*n_jobs', refit=True, return_train_score=False,\n",
       "             scoring='f1', verbose=0)"
      ]
     },
     "execution_count": 50,
     "metadata": {},
     "output_type": "execute_result"
    }
   ],
   "source": [
    "grid_search.fit(features.fillna(-4), target)"
   ]
  },
  {
   "cell_type": "code",
   "execution_count": 30,
   "metadata": {},
   "outputs": [
    {
     "data": {
      "text/plain": [
       "['best_estimator1.joblib']"
      ]
     },
     "execution_count": 30,
     "metadata": {},
     "output_type": "execute_result"
    }
   ],
   "source": [
    "#from joblib import dump\n",
    "best_est = grid_search.best_estimator_\n",
    "dump(best_est, 'best_estimator1.joblib')"
   ]
  },
  {
   "cell_type": "code",
   "execution_count": 51,
   "metadata": {},
   "outputs": [
    {
     "data": {
      "text/plain": [
       "{'max_depth': 18, 'max_features': 6, 'min_samples_leaf': 7, 'n_estimators': 80}"
      ]
     },
     "execution_count": 51,
     "metadata": {},
     "output_type": "execute_result"
    }
   ],
   "source": [
    "grid_search.best_params_ "
   ]
  },
  {
   "cell_type": "code",
   "execution_count": 52,
   "metadata": {},
   "outputs": [
    {
     "data": {
      "text/plain": [
       "0.22291108222549091"
      ]
     },
     "execution_count": 52,
     "metadata": {},
     "output_type": "execute_result"
    }
   ],
   "source": [
    "grid_search.best_score_\n",
    "# cv=3 # \n",
    "# cv=5 # gini, 13, 7, 5, 50, 0.5469243514086477 # balanced_accuracy\n",
    "# cv=5 # gini, 14, 6, 5, 60, 0.546560693873745 # balanced_accuracy\n",
    "# cv=5 # gini, 14, 6, 5, 50, 0.5492313689863219 # balanced_accuracy\n",
    "# cv=5 # gini, 14, 6, 4, 50, 0.5472039345824483 # balanced_accuracy\n",
    "# \n",
    "# cv=8 # "
   ]
  },
  {
   "cell_type": "code",
   "execution_count": 53,
   "metadata": {},
   "outputs": [],
   "source": [
    "best_est = grid_search.best_estimator_"
   ]
  },
  {
   "cell_type": "code",
   "execution_count": 54,
   "metadata": {},
   "outputs": [
    {
     "data": {
      "image/png": "[encoded data removed]",
      "text/plain": [
       "<Figure size 432x288 with 1 Axes>"
      ]
     },
     "metadata": {
      "needs_background": "light"
     },
     "output_type": "display_data"
    }
   ],
   "source": [
    "newdf = pd.DataFrame(best_est.feature_importances_, index=features.columns, \n",
    "    columns=['importance'])\n",
    "newdf.sort_values(by='importance', ascending=False).plot.bar()\n",
    "plt.title('product feature importances')\n",
    "plt.tight_layout()\n",
    "plt.show()"
   ]
  },
  {
   "cell_type": "code",
   "execution_count": 55,
   "metadata": {},
   "outputs": [
    {
     "data": {
      "text/plain": [
       "0.8426008718006035"
      ]
     },
     "execution_count": 55,
     "metadata": {},
     "output_type": "execute_result"
    }
   ],
   "source": [
    "best_est.fit(features.fillna(-4), target)\n",
    "best_est.score(features.fillna(-4), target)"
   ]
  },
  {
   "cell_type": "code",
   "execution_count": 50,
   "metadata": {},
   "outputs": [
    {
     "data": {
      "image/png": "[encoded data removed]",
      "text/plain": [
       "<Figure size 432x288 with 1 Axes>"
      ]
     },
     "metadata": {
      "needs_background": "light"
     },
     "output_type": "display_data"
    }
   ],
   "source": [
    "newdf = pd.DataFrame(best_est.feature_importances_, index=features.columns, \n",
    "    columns=['importance'])\n",
    "newdf.sort_values(by='importance', ascending=False).plot.bar()\n",
    "plt.title('product feature importances')\n",
    "plt.tight_layout()\n",
    "plt.show()"
   ]
  },
  {
   "cell_type": "code",
   "execution_count": 5,
   "metadata": {},
   "outputs": [],
   "source": [
    "import random"
   ]
  },
  {
   "cell_type": "code",
   "execution_count": 6,
   "metadata": {},
   "outputs": [],
   "source": [
    "features2 = features.copy()\n",
    "#column_vals = features2[column].values[features2[column].values != np.nan]\n",
    "#    features3[column] = features2[column].fillna(random.choice(column_vals))\n",
    "features2['early_repayment'].fillna(random.choice(features2['early_repayment'].\\\n",
    "    values[features2['early_repayment'].values != np.nan]), inplace=True)\n",
    "features2['penalty'].fillna(random.choice(features2['early_repayment'].\\\n",
    "    values[features2['penalty'].values != np.nan]), inplace=True)\n",
    "#grid_search.fit(features.fillna(-4), target)"
   ]
  },
  {
   "cell_type": "code",
   "execution_count": 67,
   "metadata": {},
   "outputs": [],
   "source": [
    "grid_params = {#'criterion':['gini','entropy'], \n",
    "               'max_depth': range(5,15,2), \n",
    "               'max_features': range(4,10,2), \n",
    "               'min_samples_leaf': range(1,5,1), \n",
    "               'n_estimators': range(20,70,10)}\n",
    "grid_search = GridSearchCV(randomforest, grid_params, cv=5, \n",
    "                           scoring='balanced_accuracy', n_jobs=-1)"
   ]
  },
  {
   "cell_type": "code",
   "execution_count": 68,
   "metadata": {},
   "outputs": [
    {
     "data": {
      "text/plain": [
       "GridSearchCV(cv=5, error_score='raise-deprecating',\n",
       "             estimator=RandomForestClassifier(bootstrap=True, class_weight=None,\n",
       "                                              criterion='gini', max_depth=None,\n",
       "                                              max_features='auto',\n",
       "                                              max_leaf_nodes=None,\n",
       "                                              min_impurity_decrease=0.0,\n",
       "                                              min_impurity_split=None,\n",
       "                                              min_samples_leaf=1,\n",
       "                                              min_samples_split=2,\n",
       "                                              min_weight_fraction_leaf=0.0,\n",
       "                                              n_estimators='warn', n_jobs=None,\n",
       "                                              oob_score=False,\n",
       "                                              random_state=None, verbose=0,\n",
       "                                              warm_start=False),\n",
       "             iid='warn', n_jobs=-1,\n",
       "             param_grid={'max_depth': range(5, 15, 2),\n",
       "                         'max_features': range(4, 10, 2),\n",
       "                         'min_samples_leaf': range(1, 5),\n",
       "                         'n_estimators': range(20, 70, 10)},\n",
       "             pre_dispatch='2*n_jobs', refit=True, return_train_score=False,\n",
       "             scoring='balanced_accuracy', verbose=0)"
      ]
     },
     "execution_count": 68,
     "metadata": {},
     "output_type": "execute_result"
    }
   ],
   "source": [
    "grid_search.fit(features2, target)"
   ]
  },
  {
   "cell_type": "code",
   "execution_count": 70,
   "metadata": {},
   "outputs": [
    {
     "data": {
      "text/plain": [
       "{'max_depth': 13, 'max_features': 8, 'min_samples_leaf': 4, 'n_estimators': 50}"
      ]
     },
     "execution_count": 70,
     "metadata": {},
     "output_type": "execute_result"
    }
   ],
   "source": [
    "grid_search.best_params_"
   ]
  },
  {
   "cell_type": "code",
   "execution_count": 71,
   "metadata": {},
   "outputs": [
    {
     "data": {
      "text/plain": [
       "0.5439140846286917"
      ]
     },
     "execution_count": 71,
     "metadata": {},
     "output_type": "execute_result"
    }
   ],
   "source": [
    "grid_search.best_score_"
   ]
  },
  {
   "cell_type": "code",
   "execution_count": 73,
   "metadata": {},
   "outputs": [],
   "source": [
    "best_est2 = grid_search.best_estimator_"
   ]
  },
  {
   "cell_type": "code",
   "execution_count": 74,
   "metadata": {},
   "outputs": [
    {
     "data": {
      "text/plain": [
       "RandomForestClassifier(bootstrap=True, class_weight=None, criterion='gini',\n",
       "                       max_depth=13, max_features=8, max_leaf_nodes=None,\n",
       "                       min_impurity_decrease=0.0, min_impurity_split=None,\n",
       "                       min_samples_leaf=4, min_samples_split=2,\n",
       "                       min_weight_fraction_leaf=0.0, n_estimators=50,\n",
       "                       n_jobs=None, oob_score=False, random_state=None,\n",
       "                       verbose=0, warm_start=False)"
      ]
     },
     "execution_count": 74,
     "metadata": {},
     "output_type": "execute_result"
    }
   ],
   "source": [
    "best_est2.fit(features2, target)"
   ]
  },
  {
   "cell_type": "code",
   "execution_count": 76,
   "metadata": {},
   "outputs": [
    {
     "data": {
      "text/plain": [
       "0.8360134682016318"
      ]
     },
     "execution_count": 76,
     "metadata": {},
     "output_type": "execute_result"
    }
   ],
   "source": [
    "best_est2.score(features2, target)"
   ]
  },
  {
   "cell_type": "code",
   "execution_count": 77,
   "metadata": {},
   "outputs": [
    {
     "data": {
      "image/png": "[encoded data removed]",
      "text/plain": [
       "<Figure size 432x288 with 1 Axes>"
      ]
     },
     "metadata": {
      "needs_background": "light"
     },
     "output_type": "display_data"
    }
   ],
   "source": [
    "newdf = pd.DataFrame(best_est2.feature_importances_, index=features2.columns, \n",
    "    columns=['importance'])\n",
    "newdf.sort_values(by='importance', ascending=False).plot.bar()\n",
    "plt.title('product feature importances')\n",
    "plt.tight_layout()\n",
    "plt.show()"
   ]
  },
  {
   "cell_type": "code",
   "execution_count": 7,
   "metadata": {},
   "outputs": [],
   "source": [
    "from sklearn.linear_model import LogisticRegression"
   ]
  },
  {
   "cell_type": "code",
   "execution_count": 8,
   "metadata": {},
   "outputs": [],
   "source": [
    "logit1 = LogisticRegression()"
   ]
  },
  {
   "cell_type": "code",
   "execution_count": 9,
   "metadata": {},
   "outputs": [
    {
     "data": {
      "text/plain": [
       "LogisticRegression(C=1.0, class_weight=None, dual=False, fit_intercept=True,\n",
       "                   intercept_scaling=1, l1_ratio=None, max_iter=100,\n",
       "                   multi_class='warn', n_jobs=None, penalty='l1',\n",
       "                   random_state=None, solver='warn', tol=0.0001, verbose=0,\n",
       "                   warm_start=False)"
      ]
     },
     "execution_count": 9,
     "metadata": {},
     "output_type": "execute_result"
    }
   ],
   "source": [
    "logit1.set_params(penalty='l1')"
   ]
  },
  {
   "cell_type": "code",
   "execution_count": 26,
   "metadata": {},
   "outputs": [
    {
     "data": {
      "text/plain": [
       "LogisticRegression(C=1.0, class_weight=None, dual=False, fit_intercept=True,\n",
       "                   intercept_scaling=1, l1_ratio=None, max_iter=100,\n",
       "                   multi_class='warn', n_jobs=None, penalty='l1',\n",
       "                   random_state=None, solver='warn', tol=0.0001, verbose=0,\n",
       "                   warm_start=False)"
      ]
     },
     "execution_count": 26,
     "metadata": {},
     "output_type": "execute_result"
    }
   ],
   "source": [
    "logit2 = LogisticRegression()\n",
    "logit2.set_params(penalty=\"l1\")"
   ]
  },
  {
   "cell_type": "code",
   "execution_count": 27,
   "metadata": {},
   "outputs": [
    {
     "name": "stderr",
     "output_type": "stream",
     "text": [
      "/Users/jen/opt/anaconda3/lib/python3.7/site-packages/sklearn/linear_model/logistic.py:432: FutureWarning: Default solver will be changed to 'lbfgs' in 0.22. Specify a solver to silence this warning.\n",
      "  FutureWarning)\n",
      "/Users/jen/opt/anaconda3/lib/python3.7/site-packages/sklearn/svm/base.py:929: ConvergenceWarning: Liblinear failed to converge, increase the number of iterations.\n",
      "  \"the number of iterations.\", ConvergenceWarning)\n"
     ]
    },
    {
     "data": {
      "text/plain": [
       "LogisticRegression(C=1.0, class_weight=None, dual=False, fit_intercept=True,\n",
       "                   intercept_scaling=1, l1_ratio=None, max_iter=100,\n",
       "                   multi_class='warn', n_jobs=None, penalty='l1',\n",
       "                   random_state=None, solver='warn', tol=0.0001, verbose=0,\n",
       "                   warm_start=False)"
      ]
     },
     "execution_count": 27,
     "metadata": {},
     "output_type": "execute_result"
    }
   ],
   "source": [
    "logit2.fit(features.fillna(-4), target)"
   ]
  },
  {
   "cell_type": "code",
   "execution_count": 28,
   "metadata": {},
   "outputs": [
    {
     "data": {
      "image/png": "[encoded data removed]",
      "text/plain": [
       "<Figure size 432x288 with 1 Axes>"
      ]
     },
     "metadata": {
      "needs_background": "light"
     },
     "output_type": "display_data"
    }
   ],
   "source": [
    "newdf = pd.DataFrame(abs(logit2.coef_.T), index=features2.columns, \n",
    "    columns=['coefficient'])\n",
    "newdf.sort_values(by='coefficient', ascending=False).plot.bar()\n",
    "plt.title('product coefficients')\n",
    "plt.tight_layout()\n",
    "plt.show()"
   ]
  },
  {
   "cell_type": "code",
   "execution_count": 29,
   "metadata": {},
   "outputs": [
    {
     "name": "stderr",
     "output_type": "stream",
     "text": [
      "/Users/jen/opt/anaconda3/lib/python3.7/site-packages/sklearn/linear_model/logistic.py:432: FutureWarning: Default solver will be changed to 'lbfgs' in 0.22. Specify a solver to silence this warning.\n",
      "  FutureWarning)\n",
      "/Users/jen/opt/anaconda3/lib/python3.7/site-packages/sklearn/svm/base.py:929: ConvergenceWarning: Liblinear failed to converge, increase the number of iterations.\n",
      "  \"the number of iterations.\", ConvergenceWarning)\n"
     ]
    },
    {
     "data": {
      "image/png": "[encoded data removed]",
      "text/plain": [
       "<Figure size 432x288 with 1 Axes>"
      ]
     },
     "metadata": {
      "needs_background": "light"
     },
     "output_type": "display_data"
    }
   ],
   "source": [
    "logit2.set_params(C=0.01)\n",
    "logit2.fit(features.fillna(-4), target)\n",
    "newdf = pd.DataFrame(abs(logit2.coef_.T), index=features2.columns, \n",
    "    columns=['coefficient'])\n",
    "newdf.sort_values(by='coefficient', ascending=False).plot.bar()\n",
    "plt.title('product coefficients')\n",
    "plt.tight_layout()\n",
    "plt.show()"
   ]
  },
  {
   "cell_type": "code",
   "execution_count": 41,
   "metadata": {},
   "outputs": [],
   "source": [
    "grid_params = {'C': 10.**(np.arange(-7,-2))}\n",
    "grid_search2 = GridSearchCV(logit1, grid_params, cv=5, \n",
    "                           scoring='balanced_accuracy', n_jobs=-1)"
   ]
  },
  {
   "cell_type": "code",
   "execution_count": 42,
   "metadata": {},
   "outputs": [
    {
     "name": "stderr",
     "output_type": "stream",
     "text": [
      "/Users/jen/opt/anaconda3/lib/python3.7/site-packages/sklearn/linear_model/logistic.py:432: FutureWarning: Default solver will be changed to 'lbfgs' in 0.22. Specify a solver to silence this warning.\n",
      "  FutureWarning)\n"
     ]
    },
    {
     "data": {
      "text/plain": [
       "GridSearchCV(cv=5, error_score='raise-deprecating',\n",
       "             estimator=LogisticRegression(C=1.0, class_weight=None, dual=False,\n",
       "                                          fit_intercept=True,\n",
       "                                          intercept_scaling=1, l1_ratio=None,\n",
       "                                          max_iter=100, multi_class='warn',\n",
       "                                          n_jobs=None, penalty='l1',\n",
       "                                          random_state=None, solver='warn',\n",
       "                                          tol=0.0001, verbose=0,\n",
       "                                          warm_start=False),\n",
       "             iid='warn', n_jobs=-1,\n",
       "             param_grid={'C': array([1.e-07, 1.e-06, 1.e-05, 1.e-04, 1.e-03])},\n",
       "             pre_dispatch='2*n_jobs', refit=True, return_train_score=False,\n",
       "             scoring='balanced_accuracy', verbose=0)"
      ]
     },
     "execution_count": 42,
     "metadata": {},
     "output_type": "execute_result"
    }
   ],
   "source": [
    "grid_search2.fit(features.fillna(-4), target)"
   ]
  },
  {
   "cell_type": "code",
   "execution_count": 43,
   "metadata": {},
   "outputs": [
    {
     "data": {
      "text/plain": [
       "{'C': 1e-05}"
      ]
     },
     "execution_count": 43,
     "metadata": {},
     "output_type": "execute_result"
    }
   ],
   "source": [
    "grid_search2.best_params_"
   ]
  },
  {
   "cell_type": "code",
   "execution_count": 45,
   "metadata": {},
   "outputs": [
    {
     "data": {
      "image/png": "[encoded data removed]",
      "text/plain": [
       "<Figure size 432x288 with 1 Axes>"
      ]
     },
     "metadata": {
      "needs_background": "light"
     },
     "output_type": "display_data"
    }
   ],
   "source": [
    "newdf = pd.DataFrame(abs(grid_search2.best_estimator_.coef_.T), \n",
    "                     index=features2.columns, columns=['coefficient'])\n",
    "newdf.sort_values(by='coefficient', ascending=False).plot.bar()\n",
    "plt.title('product coefficients')\n",
    "plt.tight_layout()\n",
    "plt.show()"
   ]
  },
  {
   "cell_type": "code",
   "execution_count": 47,
   "metadata": {},
   "outputs": [
    {
     "data": {
      "text/plain": [
       "penalty               0.000000e+00\n",
       "house                 0.000000e+00\n",
       "income                0.000000e+00\n",
       "car                   0.000000e+00\n",
       "married               0.000000e+00\n",
       "legal_person          0.000000e+00\n",
       "business_license      0.000000e+00\n",
       "house_register        0.000000e+00\n",
       "id                    0.000000e+00\n",
       "is_p2p                0.000000e+00\n",
       "bank                  0.000000e+00\n",
       "early_repayment       0.000000e+00\n",
       "standard_type         0.000000e+00\n",
       "tax                   0.000000e+00\n",
       "guarantee_required    0.000000e+00\n",
       "repayment_type        0.000000e+00\n",
       "loan_cycle            0.000000e+00\n",
       "decision_cycle        0.000000e+00\n",
       "loan_term_type        0.000000e+00\n",
       "loan_term_min         0.000000e+00\n",
       "guarantee_type        0.000000e+00\n",
       "lifecost              0.000000e+00\n",
       "term                  0.000000e+00\n",
       "interest_rate_type    0.000000e+00\n",
       "socialsecurity        0.000000e+00\n",
       "loan_term_max         5.198193e-09\n",
       "loan_quota_max        3.730245e-08\n",
       "limit                 7.485874e-07\n",
       "loan_quota_min        4.154564e-06\n",
       "apply_num             3.072542e-05\n",
       "fangkuan_num          3.795837e-04\n",
       "date                  1.121107e-03\n",
       "product_type          3.001039e-03\n",
       "Name: coefficient, dtype: float64"
      ]
     },
     "execution_count": 47,
     "metadata": {},
     "output_type": "execute_result"
    }
   ],
   "source": [
    "newdf['coefficient'].sort_values()"
   ]
  },
  {
   "cell_type": "code",
   "execution_count": 48,
   "metadata": {},
   "outputs": [
    {
     "name": "stderr",
     "output_type": "stream",
     "text": [
      "/Users/jen/opt/anaconda3/lib/python3.7/site-packages/sklearn/linear_model/logistic.py:432: FutureWarning: Default solver will be changed to 'lbfgs' in 0.22. Specify a solver to silence this warning.\n",
      "  FutureWarning)\n"
     ]
    },
    {
     "data": {
      "text/plain": [
       "GridSearchCV(cv=5, error_score='raise-deprecating',\n",
       "             estimator=LogisticRegression(C=1.0, class_weight=None, dual=False,\n",
       "                                          fit_intercept=True,\n",
       "                                          intercept_scaling=1, l1_ratio=None,\n",
       "                                          max_iter=100, multi_class='warn',\n",
       "                                          n_jobs=None, penalty='l1',\n",
       "                                          random_state=None, solver='warn',\n",
       "                                          tol=0.0001, verbose=0,\n",
       "                                          warm_start=False),\n",
       "             iid='warn', n_jobs=-1,\n",
       "             param_grid={'C': array([1.e-07, 1.e-06, 1.e-05, 1.e-04, 1.e-03])},\n",
       "             pre_dispatch='2*n_jobs', refit=True, return_train_score=False,\n",
       "             scoring='balanced_accuracy', verbose=0)"
      ]
     },
     "execution_count": 48,
     "metadata": {},
     "output_type": "execute_result"
    }
   ],
   "source": [
    "grid_search2.fit(features2, target)"
   ]
  },
  {
   "cell_type": "code",
   "execution_count": 49,
   "metadata": {},
   "outputs": [
    {
     "data": {
      "text/plain": [
       "{'C': 0.0001}"
      ]
     },
     "execution_count": 49,
     "metadata": {},
     "output_type": "execute_result"
    }
   ],
   "source": [
    "grid_search2.best_params_"
   ]
  },
  {
   "cell_type": "code",
   "execution_count": 50,
   "metadata": {},
   "outputs": [
    {
     "data": {
      "image/png": "[encoded data removed]",
      "text/plain": [
       "<Figure size 432x288 with 1 Axes>"
      ]
     },
     "metadata": {
      "needs_background": "light"
     },
     "output_type": "display_data"
    }
   ],
   "source": [
    "newdf = pd.DataFrame(abs(grid_search2.best_estimator_.coef_.T), \n",
    "                     index=features2.columns, columns=['coefficient'])\n",
    "newdf.sort_values(by='coefficient', ascending=False).plot.bar()\n",
    "plt.title('product coefficients')\n",
    "plt.tight_layout()\n",
    "plt.show()"
   ]
  },
  {
   "cell_type": "code",
   "execution_count": 51,
   "metadata": {},
   "outputs": [
    {
     "data": {
      "text/plain": [
       "penalty               0.000000e+00\n",
       "income                0.000000e+00\n",
       "car                   0.000000e+00\n",
       "married               0.000000e+00\n",
       "legal_person          0.000000e+00\n",
       "business_license      0.000000e+00\n",
       "house_register        0.000000e+00\n",
       "id                    0.000000e+00\n",
       "is_p2p                0.000000e+00\n",
       "socialsecurity        0.000000e+00\n",
       "early_repayment       0.000000e+00\n",
       "standard_type         0.000000e+00\n",
       "guarantee_required    0.000000e+00\n",
       "interest_rate_type    0.000000e+00\n",
       "repayment_type        0.000000e+00\n",
       "bank                  0.000000e+00\n",
       "decision_cycle        0.000000e+00\n",
       "loan_term_type        0.000000e+00\n",
       "loan_term_min         0.000000e+00\n",
       "guarantee_type        0.000000e+00\n",
       "lifecost              0.000000e+00\n",
       "term                  0.000000e+00\n",
       "house                 0.000000e+00\n",
       "tax                   0.000000e+00\n",
       "loan_term_max         5.334704e-09\n",
       "loan_quota_max        3.072778e-08\n",
       "limit                 1.695258e-06\n",
       "loan_quota_min        3.509168e-06\n",
       "apply_num             5.136779e-05\n",
       "fangkuan_num          4.158916e-04\n",
       "date                  9.741181e-04\n",
       "product_type          8.074512e-03\n",
       "loan_cycle            2.091260e-02\n",
       "Name: coefficient, dtype: float64"
      ]
     },
     "execution_count": 51,
     "metadata": {},
     "output_type": "execute_result"
    }
   ],
   "source": [
    "newdf['coefficient'].sort_values()"
   ]
  },
  {
   "cell_type": "code",
   "execution_count": 16,
   "metadata": {},
   "outputs": [],
   "source": [
    "df2 = pd.read_csv(\"../order_quality.csv\")"
   ]
  },
  {
   "cell_type": "code",
   "execution_count": 17,
   "metadata": {},
   "outputs": [
    {
     "data": {
      "text/plain": [
       "user_id            object\n",
       "product_id         object\n",
       "date                int64\n",
       "term                int64\n",
       "limit             float64\n",
       "                   ...   \n",
       "mobile_quality    float64\n",
       "standard_type     float64\n",
       "guarantee_type    float64\n",
       "bank_id            object\n",
       "counts            float64\n",
       "Length: 95, dtype: object"
      ]
     },
     "execution_count": 17,
     "metadata": {},
     "output_type": "execute_result"
    }
   ],
   "source": [
    "df2.dtypes"
   ]
  },
  {
   "cell_type": "code",
   "execution_count": 18,
   "metadata": {},
   "outputs": [],
   "source": [
    "df2 = df2.drop(df2.columns[df2.isnull().sum()/df2.shape[0] > 0.5], axis=1)"
   ]
  },
  {
   "cell_type": "code",
   "execution_count": 19,
   "metadata": {},
   "outputs": [
    {
     "data": {
      "text/plain": [
       "user_id                    object\n",
       "product_id                 object\n",
       "date                        int64\n",
       "term                        int64\n",
       "limit                     float64\n",
       "result                      int64\n",
       "city_id                    object\n",
       "application_type          float64\n",
       "application_term          float64\n",
       "application_limit         float64\n",
       "op_type                   float64\n",
       "col_type                  float64\n",
       "user_loan_experience      float64\n",
       "user_has_car              float64\n",
       "user_social_security      float64\n",
       "qid77                     float64\n",
       "user_income_by_card       float64\n",
       "user_work_period          float64\n",
       "loan_limit_n              float64\n",
       "op_type_n                 float64\n",
       "col_type_n                float64\n",
       "user_loan_experience_n    float64\n",
       "user_has_car_n            float64\n",
       "user_social_security_n    float64\n",
       "qid77_n                   float64\n",
       "cash_receipts_n           float64\n",
       "user_income_by_card_n     float64\n",
       "user_work_period_n        float64\n",
       "user_age_n                float64\n",
       "product_type              float64\n",
       "apply_from                float64\n",
       "platform                  float64\n",
       "spam_score                float64\n",
       "mobile_verify             float64\n",
       "source                    float64\n",
       "medium                    float64\n",
       "is_paid                   float64\n",
       "quality                   float64\n",
       "mobile_source             float64\n",
       "mobile_medium             float64\n",
       "mobile_is_paid            float64\n",
       "mobile_quality            float64\n",
       "standard_type             float64\n",
       "guarantee_type            float64\n",
       "bank_id                    object\n",
       "counts                    float64\n",
       "dtype: object"
      ]
     },
     "execution_count": 19,
     "metadata": {},
     "output_type": "execute_result"
    }
   ],
   "source": [
    "df2.dtypes"
   ]
  },
  {
   "cell_type": "code",
   "execution_count": 20,
   "metadata": {},
   "outputs": [],
   "source": [
    "features2 = df2.drop(['user_id', 'product_id', 'city_id', 'bank_id', 'result'], axis=1)\n",
    "target2 = df2['result']"
   ]
  },
  {
   "cell_type": "code",
   "execution_count": 21,
   "metadata": {},
   "outputs": [
    {
     "data": {
      "text/plain": [
       "date                           0\n",
       "term                           0\n",
       "limit                          0\n",
       "application_type            4395\n",
       "application_term            4395\n",
       "application_limit           4395\n",
       "op_type                    38550\n",
       "col_type                  103626\n",
       "user_loan_experience       87898\n",
       "user_has_car              120599\n",
       "user_social_security      138701\n",
       "qid77                     134258\n",
       "user_income_by_card       113766\n",
       "user_work_period          131021\n",
       "loan_limit_n               36346\n",
       "op_type_n                  18162\n",
       "col_type_n                 71512\n",
       "user_loan_experience_n     51199\n",
       "user_has_car_n             96613\n",
       "user_social_security_n    112346\n",
       "qid77_n                   109724\n",
       "cash_receipts_n           110110\n",
       "user_income_by_card_n      81972\n",
       "user_work_period_n         95672\n",
       "user_age_n                141002\n",
       "product_type                4395\n",
       "apply_from                  4395\n",
       "platform                    4395\n",
       "spam_score                  4395\n",
       "mobile_verify               4395\n",
       "source                      4395\n",
       "medium                      4395\n",
       "is_paid                    21689\n",
       "quality                    21689\n",
       "mobile_source               4395\n",
       "mobile_medium               4395\n",
       "mobile_is_paid             91684\n",
       "mobile_quality             91684\n",
       "standard_type              14568\n",
       "guarantee_type             14568\n",
       "counts                      4395\n",
       "dtype: int64"
      ]
     },
     "execution_count": 21,
     "metadata": {},
     "output_type": "execute_result"
    }
   ],
   "source": [
    "features2.isnull().sum(axis=0)"
   ]
  },
  {
   "cell_type": "code",
   "execution_count": 115,
   "metadata": {},
   "outputs": [
    {
     "data": {
      "text/plain": [
       "date                         0\n",
       "term                         0\n",
       "limit                        0\n",
       "application_type          4395\n",
       "application_term          4395\n",
       "application_limit         4395\n",
       "op_type                   4395\n",
       "col_type                  4395\n",
       "user_loan_experience      4395\n",
       "user_has_car              4395\n",
       "user_social_security      4395\n",
       "qid77                     4395\n",
       "user_income_by_card       4395\n",
       "user_work_period          4395\n",
       "loan_limit_n              4395\n",
       "op_type_n                 4395\n",
       "col_type_n                4395\n",
       "user_loan_experience_n    4395\n",
       "user_has_car_n            4395\n",
       "user_social_security_n    4395\n",
       "qid77_n                   4395\n",
       "cash_receipts_n           4395\n",
       "user_income_by_card_n     4395\n",
       "user_work_period_n        4395\n",
       "user_age_n                4395\n",
       "product_type              4395\n",
       "apply_from                4395\n",
       "platform                  4395\n",
       "spam_score                4395\n",
       "mobile_verify             4395\n",
       "source                    4395\n",
       "medium                    4395\n",
       "is_paid                   4395\n",
       "quality                   4395\n",
       "mobile_source             4395\n",
       "mobile_medium             4395\n",
       "mobile_is_paid            4395\n",
       "mobile_quality            4395\n",
       "standard_type             4395\n",
       "guarantee_type            4395\n",
       "counts                    4395\n",
       "dtype: int64"
      ]
     },
     "execution_count": 115,
     "metadata": {},
     "output_type": "execute_result"
    }
   ],
   "source": [
    "features2.loc[features2['application_type'].isnull()].isnull().sum()#.sum(axis=0)"
   ]
  },
  {
   "cell_type": "code",
   "execution_count": 22,
   "metadata": {},
   "outputs": [
    {
     "data": {
      "text/plain": [
       "(282707, 41)"
      ]
     },
     "execution_count": 22,
     "metadata": {},
     "output_type": "execute_result"
    }
   ],
   "source": [
    "features2.shape"
   ]
  },
  {
   "cell_type": "code",
   "execution_count": 23,
   "metadata": {},
   "outputs": [
    {
     "data": {
      "text/plain": [
       "0.015546130799732586"
      ]
     },
     "execution_count": 23,
     "metadata": {},
     "output_type": "execute_result"
    }
   ],
   "source": [
    "4395/282707"
   ]
  },
  {
   "cell_type": "code",
   "execution_count": 135,
   "metadata": {},
   "outputs": [],
   "source": [
    "#features2 = features2.loc[~features2['application_type'].isnull()]"
   ]
  },
  {
   "cell_type": "code",
   "execution_count": 24,
   "metadata": {},
   "outputs": [],
   "source": [
    "features2.fillna(-4, inplace=True)"
   ]
  },
  {
   "cell_type": "code",
   "execution_count": 123,
   "metadata": {},
   "outputs": [],
   "source": [
    "#features3 = pd.DataFrame()\n",
    "#for column in features2.columns:\n",
    "#    column_vals = features2[column].values[features2[column].values != np.nan]\n",
    "#    features3[column] = features2[column].fillna(random.choice(column_vals))"
   ]
  },
  {
   "cell_type": "code",
   "execution_count": 124,
   "metadata": {},
   "outputs": [
    {
     "data": {
      "text/plain": [
       "date                      0\n",
       "term                      0\n",
       "limit                     0\n",
       "application_type          0\n",
       "application_term          0\n",
       "application_limit         0\n",
       "op_type                   0\n",
       "col_type                  0\n",
       "user_loan_experience      0\n",
       "user_has_car              0\n",
       "user_social_security      0\n",
       "qid77                     0\n",
       "user_income_by_card       0\n",
       "user_work_period          0\n",
       "loan_limit_n              0\n",
       "op_type_n                 0\n",
       "col_type_n                0\n",
       "user_loan_experience_n    0\n",
       "user_has_car_n            0\n",
       "user_social_security_n    0\n",
       "qid77_n                   0\n",
       "cash_receipts_n           0\n",
       "user_income_by_card_n     0\n",
       "user_work_period_n        0\n",
       "user_age_n                0\n",
       "product_type              0\n",
       "apply_from                0\n",
       "platform                  0\n",
       "spam_score                0\n",
       "mobile_verify             0\n",
       "source                    0\n",
       "medium                    0\n",
       "is_paid                   0\n",
       "quality                   0\n",
       "mobile_source             0\n",
       "mobile_medium             0\n",
       "mobile_is_paid            0\n",
       "mobile_quality            0\n",
       "standard_type             0\n",
       "guarantee_type            0\n",
       "counts                    0\n",
       "dtype: int64"
      ]
     },
     "execution_count": 124,
     "metadata": {},
     "output_type": "execute_result"
    }
   ],
   "source": [
    "#features3.isnull().sum(axis=0)"
   ]
  },
  {
   "cell_type": "code",
   "execution_count": 110,
   "metadata": {},
   "outputs": [
    {
     "data": {
      "text/plain": [
       "83503"
      ]
     },
     "execution_count": 110,
     "metadata": {},
     "output_type": "execute_result"
    }
   ],
   "source": [
    "#features3['user_loan_experience'].isnull().sum()"
   ]
  },
  {
   "cell_type": "code",
   "execution_count": 25,
   "metadata": {},
   "outputs": [
    {
     "data": {
      "text/html": [
       "<div>\n",
       "<style scoped>\n",
       "    .dataframe tbody tr th:only-of-type {\n",
       "        vertical-align: middle;\n",
       "    }\n",
       "\n",
       "    .dataframe tbody tr th {\n",
       "        vertical-align: top;\n",
       "    }\n",
       "\n",
       "    .dataframe thead th {\n",
       "        text-align: right;\n",
       "    }\n",
       "</style>\n",
       "<table border=\"1\" class=\"dataframe\">\n",
       "  <thead>\n",
       "    <tr style=\"text-align: right;\">\n",
       "      <th></th>\n",
       "      <th>date</th>\n",
       "      <th>term</th>\n",
       "      <th>limit</th>\n",
       "      <th>application_type</th>\n",
       "      <th>application_term</th>\n",
       "      <th>application_limit</th>\n",
       "      <th>op_type</th>\n",
       "      <th>col_type</th>\n",
       "      <th>user_loan_experience</th>\n",
       "      <th>user_has_car</th>\n",
       "      <th>...</th>\n",
       "      <th>medium</th>\n",
       "      <th>is_paid</th>\n",
       "      <th>quality</th>\n",
       "      <th>mobile_source</th>\n",
       "      <th>mobile_medium</th>\n",
       "      <th>mobile_is_paid</th>\n",
       "      <th>mobile_quality</th>\n",
       "      <th>standard_type</th>\n",
       "      <th>guarantee_type</th>\n",
       "      <th>counts</th>\n",
       "    </tr>\n",
       "  </thead>\n",
       "  <tbody>\n",
       "    <tr>\n",
       "      <td>0</td>\n",
       "      <td>754</td>\n",
       "      <td>24</td>\n",
       "      <td>10.0</td>\n",
       "      <td>1.0</td>\n",
       "      <td>24.0</td>\n",
       "      <td>10.0</td>\n",
       "      <td>-4.0</td>\n",
       "      <td>-4.0</td>\n",
       "      <td>-4.0</td>\n",
       "      <td>-4.0</td>\n",
       "      <td>...</td>\n",
       "      <td>121.0</td>\n",
       "      <td>0.0</td>\n",
       "      <td>0.0</td>\n",
       "      <td>185.0</td>\n",
       "      <td>117.0</td>\n",
       "      <td>0.0</td>\n",
       "      <td>1.0</td>\n",
       "      <td>1.0</td>\n",
       "      <td>1.0</td>\n",
       "      <td>6.0</td>\n",
       "    </tr>\n",
       "    <tr>\n",
       "      <td>1</td>\n",
       "      <td>754</td>\n",
       "      <td>24</td>\n",
       "      <td>10.0</td>\n",
       "      <td>2.0</td>\n",
       "      <td>36.0</td>\n",
       "      <td>10.0</td>\n",
       "      <td>2.0</td>\n",
       "      <td>-4.0</td>\n",
       "      <td>-4.0</td>\n",
       "      <td>-4.0</td>\n",
       "      <td>...</td>\n",
       "      <td>121.0</td>\n",
       "      <td>0.0</td>\n",
       "      <td>0.0</td>\n",
       "      <td>185.0</td>\n",
       "      <td>117.0</td>\n",
       "      <td>0.0</td>\n",
       "      <td>1.0</td>\n",
       "      <td>1.0</td>\n",
       "      <td>1.0</td>\n",
       "      <td>6.0</td>\n",
       "    </tr>\n",
       "    <tr>\n",
       "      <td>2</td>\n",
       "      <td>754</td>\n",
       "      <td>24</td>\n",
       "      <td>20.0</td>\n",
       "      <td>1.0</td>\n",
       "      <td>12.0</td>\n",
       "      <td>20.0</td>\n",
       "      <td>-4.0</td>\n",
       "      <td>-4.0</td>\n",
       "      <td>-4.0</td>\n",
       "      <td>-4.0</td>\n",
       "      <td>...</td>\n",
       "      <td>57.0</td>\n",
       "      <td>0.0</td>\n",
       "      <td>1.0</td>\n",
       "      <td>221.0</td>\n",
       "      <td>231.0</td>\n",
       "      <td>0.0</td>\n",
       "      <td>1.0</td>\n",
       "      <td>1.0</td>\n",
       "      <td>2.0</td>\n",
       "      <td>6.0</td>\n",
       "    </tr>\n",
       "    <tr>\n",
       "      <td>3</td>\n",
       "      <td>754</td>\n",
       "      <td>24</td>\n",
       "      <td>20.0</td>\n",
       "      <td>2.0</td>\n",
       "      <td>24.0</td>\n",
       "      <td>20.0</td>\n",
       "      <td>3.0</td>\n",
       "      <td>-4.0</td>\n",
       "      <td>-4.0</td>\n",
       "      <td>-4.0</td>\n",
       "      <td>...</td>\n",
       "      <td>57.0</td>\n",
       "      <td>0.0</td>\n",
       "      <td>1.0</td>\n",
       "      <td>221.0</td>\n",
       "      <td>231.0</td>\n",
       "      <td>0.0</td>\n",
       "      <td>1.0</td>\n",
       "      <td>1.0</td>\n",
       "      <td>2.0</td>\n",
       "      <td>6.0</td>\n",
       "    </tr>\n",
       "    <tr>\n",
       "      <td>4</td>\n",
       "      <td>754</td>\n",
       "      <td>12</td>\n",
       "      <td>10.0</td>\n",
       "      <td>2.0</td>\n",
       "      <td>12.0</td>\n",
       "      <td>10.0</td>\n",
       "      <td>3.0</td>\n",
       "      <td>-4.0</td>\n",
       "      <td>-4.0</td>\n",
       "      <td>-4.0</td>\n",
       "      <td>...</td>\n",
       "      <td>123.0</td>\n",
       "      <td>0.0</td>\n",
       "      <td>0.0</td>\n",
       "      <td>151.0</td>\n",
       "      <td>231.0</td>\n",
       "      <td>0.0</td>\n",
       "      <td>1.0</td>\n",
       "      <td>1.0</td>\n",
       "      <td>1.0</td>\n",
       "      <td>12.0</td>\n",
       "    </tr>\n",
       "  </tbody>\n",
       "</table>\n",
       "<p>5 rows × 41 columns</p>\n",
       "</div>"
      ],
      "text/plain": [
       "   date  term  limit  application_type  application_term  application_limit  \\\n",
       "0   754    24   10.0               1.0              24.0               10.0   \n",
       "1   754    24   10.0               2.0              36.0               10.0   \n",
       "2   754    24   20.0               1.0              12.0               20.0   \n",
       "3   754    24   20.0               2.0              24.0               20.0   \n",
       "4   754    12   10.0               2.0              12.0               10.0   \n",
       "\n",
       "   op_type  col_type  user_loan_experience  user_has_car  ...  medium  \\\n",
       "0     -4.0      -4.0                  -4.0          -4.0  ...   121.0   \n",
       "1      2.0      -4.0                  -4.0          -4.0  ...   121.0   \n",
       "2     -4.0      -4.0                  -4.0          -4.0  ...    57.0   \n",
       "3      3.0      -4.0                  -4.0          -4.0  ...    57.0   \n",
       "4      3.0      -4.0                  -4.0          -4.0  ...   123.0   \n",
       "\n",
       "   is_paid  quality  mobile_source  mobile_medium  mobile_is_paid  \\\n",
       "0      0.0      0.0          185.0          117.0             0.0   \n",
       "1      0.0      0.0          185.0          117.0             0.0   \n",
       "2      0.0      1.0          221.0          231.0             0.0   \n",
       "3      0.0      1.0          221.0          231.0             0.0   \n",
       "4      0.0      0.0          151.0          231.0             0.0   \n",
       "\n",
       "   mobile_quality  standard_type  guarantee_type  counts  \n",
       "0             1.0            1.0             1.0     6.0  \n",
       "1             1.0            1.0             1.0     6.0  \n",
       "2             1.0            1.0             2.0     6.0  \n",
       "3             1.0            1.0             2.0     6.0  \n",
       "4             1.0            1.0             1.0    12.0  \n",
       "\n",
       "[5 rows x 41 columns]"
      ]
     },
     "execution_count": 25,
     "metadata": {},
     "output_type": "execute_result"
    }
   ],
   "source": [
    "features2.head()"
   ]
  },
  {
   "cell_type": "code",
   "execution_count": 26,
   "metadata": {},
   "outputs": [],
   "source": [
    "randomforest2 = RandomForestClassifier()"
   ]
  },
  {
   "cell_type": "code",
   "execution_count": 27,
   "metadata": {},
   "outputs": [
    {
     "data": {
      "text/plain": [
       "GridSearchCV(cv=5, error_score='raise-deprecating',\n",
       "             estimator=RandomForestClassifier(bootstrap=True, class_weight=None,\n",
       "                                              criterion='gini', max_depth=None,\n",
       "                                              max_features='auto',\n",
       "                                              max_leaf_nodes=None,\n",
       "                                              min_impurity_decrease=0.0,\n",
       "                                              min_impurity_split=None,\n",
       "                                              min_samples_leaf=1,\n",
       "                                              min_samples_split=2,\n",
       "                                              min_weight_fraction_leaf=0.0,\n",
       "                                              n_estimators='warn', n_jobs=None,\n",
       "                                              oob_score=False,\n",
       "                                              random_state=None, verbose=0,\n",
       "                                              warm_start=False),\n",
       "             iid='warn', n_jobs=-1,\n",
       "             param_grid={'max_depth': range(1, 10),\n",
       "                         'n_estimators': range(5, 50, 5)},\n",
       "             pre_dispatch='2*n_jobs', refit=True, return_train_score=False,\n",
       "             scoring='balanced_accuracy', verbose=0)"
      ]
     },
     "execution_count": 27,
     "metadata": {},
     "output_type": "execute_result"
    }
   ],
   "source": [
    "grid_params2 = { 'max_depth': range(1,10,1), 'n_estimators': range(5,50,5)}\n",
    "grid_search2 = GridSearchCV(randomforest2, grid_params, cv=5, \n",
    "                           scoring='balanced_accuracy', n_jobs=-1)\n",
    "grid_search2.fit(features2, target2)"
   ]
  },
  {
   "cell_type": "code",
   "execution_count": 28,
   "metadata": {},
   "outputs": [
    {
     "data": {
      "text/plain": [
       "{'max_depth': 9, 'n_estimators': 5}"
      ]
     },
     "execution_count": 28,
     "metadata": {},
     "output_type": "execute_result"
    }
   ],
   "source": [
    "grid_search2.best_params_"
   ]
  },
  {
   "cell_type": "code",
   "execution_count": 29,
   "metadata": {},
   "outputs": [
    {
     "data": {
      "text/plain": [
       "0.5040860806503792"
      ]
     },
     "execution_count": 29,
     "metadata": {},
     "output_type": "execute_result"
    }
   ],
   "source": [
    "grid_search2.best_score_"
   ]
  },
  {
   "cell_type": "code",
   "execution_count": 30,
   "metadata": {},
   "outputs": [],
   "source": [
    "best_est2 = grid_search2.best_estimator_"
   ]
  },
  {
   "cell_type": "code",
   "execution_count": 31,
   "metadata": {},
   "outputs": [
    {
     "data": {
      "image/png": "[encoded data removed]",
      "text/plain": [
       "<Figure size 432x288 with 1 Axes>"
      ]
     },
     "metadata": {
      "needs_background": "light"
     },
     "output_type": "display_data"
    }
   ],
   "source": [
    "newdf = pd.DataFrame(best_est2.feature_importances_, index=features2.columns, \n",
    "    columns=['importance'])\n",
    "newdf.sort_values(by='importance', ascending=False).plot.bar()\n",
    "plt.title('product feature importances')\n",
    "plt.tight_layout()\n",
    "plt.show()"
   ]
  },
  {
   "cell_type": "code",
   "execution_count": 32,
   "metadata": {},
   "outputs": [],
   "source": [
    "best_est2 = best_est2.fit(features2, target2)"
   ]
  },
  {
   "cell_type": "code",
   "execution_count": 33,
   "metadata": {},
   "outputs": [
    {
     "data": {
      "text/plain": [
       "RandomForestClassifier(bootstrap=True, class_weight=None, criterion='gini',\n",
       "                       max_depth=9, max_features='auto', max_leaf_nodes=None,\n",
       "                       min_impurity_decrease=0.0, min_impurity_split=None,\n",
       "                       min_samples_leaf=1, min_samples_split=2,\n",
       "                       min_weight_fraction_leaf=0.0, n_estimators=5,\n",
       "                       n_jobs=None, oob_score=False, random_state=None,\n",
       "                       verbose=0, warm_start=False)"
      ]
     },
     "execution_count": 33,
     "metadata": {},
     "output_type": "execute_result"
    }
   ],
   "source": [
    "best_est2.fit(features2, target2)"
   ]
  },
  {
   "cell_type": "code",
   "execution_count": 34,
   "metadata": {},
   "outputs": [
    {
     "data": {
      "text/plain": [
       "0.8468626528526001"
      ]
     },
     "execution_count": 34,
     "metadata": {},
     "output_type": "execute_result"
    }
   ],
   "source": [
    "best_est2.score(features2, target2)"
   ]
  },
  {
   "cell_type": "code",
   "execution_count": 35,
   "metadata": {},
   "outputs": [
    {
     "data": {
      "image/png": "[encoded data removed]",
      "text/plain": [
       "<Figure size 432x288 with 1 Axes>"
      ]
     },
     "metadata": {
      "needs_background": "light"
     },
     "output_type": "display_data"
    }
   ],
   "source": [
    "newdf = pd.DataFrame(best_est2.feature_importances_, index=features2.columns, \n",
    "    columns=['importance'])\n",
    "newdf.sort_values(by='importance', ascending=False).plot.bar()\n",
    "plt.title('product feature importances')\n",
    "plt.tight_layout()\n",
    "plt.show()"
   ]
  },
  {
   "cell_type": "code",
   "execution_count": null,
   "metadata": {},
   "outputs": [],
   "source": []
  }
 ],
 "metadata": {
  "kernelspec": {
   "display_name": "Python 3",
   "language": "python",
   "name": "python3"
  },
  "language_info": {
   "codemirror_mode": {
    "name": "ipython",
    "version": 3
   },
   "file_extension": ".py",
   "mimetype": "text/x-python",
   "name": "python",
   "nbconvert_exporter": "python",
   "pygments_lexer": "ipython3",
   "version": "3.7.4"
  }
 },
 "nbformat": 4,
 "nbformat_minor": 2
}
