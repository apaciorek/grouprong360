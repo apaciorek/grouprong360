{
 "cells": [
  {
   "cell_type": "markdown",
   "metadata": {},
   "source": [
    "# Rong 360 FinTech Capstone Project\n",
    "- **Rong 360** is a Chinese fin-tech company (traded at NY stock market), which operates as a platform of \n",
    "loan/credit card marketplaces.\n",
    "- All the platform users and the banks interact on the **Rong360** platform. \n",
    "- Through search engine, a single user can browse and research on multple loan products from many different banks.\n",
    "- The user applies for multiple loans which satisfy his/her finanical need, then the individual banks approve/disaprove the loan based on the customer's risk profile. \n",
    "- The user might need to visit the bank local branch office for an interview.\n",
    "- **Rong360** differentiates from the traditional loan approval process in that **Rong360** provides a centralized \n",
    "customer loan access portal.\n",
    "  - The customer benefits from accessing many loan providers (banks) within one system.\n",
    "  - Once the customer has a longer term history with **Rong360**, **Rong360** uses big data to gauge the customer's financial risk\n",
    "profile. \n",
    "  - Even though the banks have to compete on the same platform for business, the banks could benefit by using more accurate\n",
    "    propiertary risk profile to approve or reject loan applications.\n",
    "- The goal of this project is to predict the loan approvals based on user attributes/loan and bank attributes."
   ]
  },
  {
   "cell_type": "code",
   "execution_count": 4,
   "metadata": {},
   "outputs": [
    {
     "data": {
      "image/jpeg": "[encoded data removed]",
      "text/plain": [
       "<IPython.core.display.Image object>"
      ]
     },
     "execution_count": 4,
     "metadata": {
      "image/jpeg": {
       "height": 300,
       "width": 400
      }
     },
     "output_type": "execute_result"
    }
   ],
   "source": [
    "from IPython.display import Image\n",
    "Image(filename='Rong.jpeg', height=300, width=400) "
   ]
  },
  {
   "cell_type": "code",
   "execution_count": 5,
   "metadata": {},
   "outputs": [
    {
     "data": {
      "image/jpeg": "[encoded data removed]",
      "text/plain": [
       "<IPython.core.display.Image object>"
      ]
     },
     "execution_count": 5,
     "metadata": {
      "image/jpeg": {
       "height": 300,
       "width": 400
      }
     },
     "output_type": "execute_result"
    }
   ],
   "source": [
    "Image(filename='Rong2.jpeg', height=300, width=400)"
   ]
  },
  {
   "cell_type": "markdown",
   "metadata": {},
   "source": [
    "### Data \n",
    "- The data set is of a median size, which consists of $140K+$ loan application records spanning two plus years.\n",
    "- It was originally used in (donated to) a **Kaggle-like** ML competition in China. \n",
    "- The core of the data set is the orders_train.txt, which describes how the banks interact with the loan applicants.\n",
    "- The side information user.final.txt records the user browsing behavior on the **Rong360** platform.\n",
    "- The side information quality.final.txt records the applicant (user) quality records.\n",
    "- The side information product.final.txt records the bank/loans information.\n",
    "- Each bank approves or disapproves the loans independently based on the applicant's risk profile.\n",
    "- The final result of the loan approval is recorded in the **result** column of orders_train.txt.\n",
    "- Unlike many **Kaggle** competition ML projects, the columns of the dataset are preserved. So your team can try to \n",
    "interpret your finding.\n",
    "- But many categorical features are integer-encoded, so the meanings of the these feature levels are missing.\n",
    "- Because the features are collected from different banks, there can be formatting inconsistency issue which causes the\n",
    "values to be reported in different units, causing outliers. Thus it is vital to clean your data cautiously. "
   ]
  },
  {
   "cell_type": "markdown",
   "metadata": {},
   "source": [
    "### Step 1 Background\n",
    "- Study the business model of **Rong360** and \n",
    "identify the **fundamental inefficiency** it resolves in the traditional lending market.\n",
    "- Visit the company website to understand more about the company practice.\n",
    "http://www.rong360.com/about/, https://www.rong360.com/. Google translate them if necessary.\n",
    "- Answer why should a typical customer uses **Rong360**. Answer why a bank/small lender would use **Rong360** to access its client base.        \n",
    "- Read \n",
    "     - https://www.boardofinnovation.com/blog/10-innovative-fintech-business-models/,\n",
    "     - https://www.mckinsey.com/industries/financial-services/our-insights/banking-matters/scanning-the-fintech-landscape, \n",
    "     - https://www.fintechfutures.com/2019/12/white-paper-what-will-the-future-of-banking-look-like/, \n",
    "     - https://www.fintechfutures.com/2019/03/the-new-business-models-of-banking/   \n",
    "    for the several important disruptive business models in fintech industry.\n",
    "- Read the attaching help files of **Rong360** dataset to gain understanding on the meanings of the orders, quality, user, product columns."
   ]
  },
  {
   "cell_type": "markdown",
   "metadata": {},
   "source": [
    "### Role Playing\n",
    "- Before starting your own project, you need to identify your own role. In this project, depending on whether you focus solely\n",
    "on data analysis or both data analysis and machine learning, you are a data analyst or data scientist working for **Rong360**.\n"
   ]
  },
  {
   "cell_type": "markdown",
   "metadata": {
    "collapsed": true
   },
   "source": [
    "### Step 2 Data Analysis\n",
    "- Remember that data analysis can be used either to gain business insights, or to gain insights for machine learning model design.\n",
    "- During the data analysis stage, we would propose several ideas for you to work on."
   ]
  },
  {
   "cell_type": "markdown",
   "metadata": {},
   "source": [
    "### DA Question 1:Time Series on Loan Application Volumes\n",
    "- Study the pattern of daily loan application counts as a time series. Identify the seasonality of the time series.\n",
    "To understand the concept of time series seasonality, \n",
    "read https://machinelearningmastery.com/time-series-seasonality-with-python/.\n",
    "- Propose the plausible explanation why there are periodic application volume dips.\n",
    "- Identify the popular loan term (in months) and study the application volume time series of the prescribed term(s).\n",
    "How do their growth behavior differ from each other? Please offer your explanation on the differences.\n",
    "- Study how do the approval rates change with respect to the date (or month, week) variables and the loan terms.\n",
    "- Optional: **Modeling** the growth of loan application volumes of each popular term as seasonal time series.\n",
    "You may use the traditional seasonal arima model or the modern machine learning technique.\n"
   ]
  },
  {
   "cell_type": "markdown",
   "metadata": {},
   "source": [
    "### DA Question 2: The Bank Branches and Approval Rates\n",
    "- **Rong360** operates to target many major cities in China, including Peking and Shanghai. Based on the **city_id** and application volumes, please depict the business volumes across different cities.\n",
    "- Visualize the volume growths of the major bank location cities.\n",
    "- The banks can be differentiated by how many branches they operate. Some smaller banks operate in a single or only a few locations.\n",
    "Others (the large banks) have branches across China.\n",
    "Please study the influence of bank branch counts on \n",
    "the loan approval rates. Please offer an interpretation to the observed pattern.\n",
    "- Figure out the time evolution of the small banks vs big banks application volumes.\n",
    "- Answer how do the banks deal with non-local customers. Do they approve the non-local loans differently from the local loan applicants?\n",
    "\n",
    "The insights you gain in the above analysis might be valuable for feature generation."
   ]
  },
  {
   "cell_type": "markdown",
   "metadata": {
    "collapsed": true
   },
   "source": [
    "### DA Question 3: Product Popularity and Customer Background Analysis\n",
    "- The banks would like to know what types of loan products are more popular in the market. Please analyze the data\n",
    "and provide insights on what types of products are most popular. \n",
    "Do their popularities evolve w.r.t. time or vary with applicants' locations?\n",
    "- Describe the distribution of aggregate loan application counts during the total time period, either by the banks or by t\n",
    "the products. What are the characteristics of banks or products which have low loan applications?\n",
    "- Identify the banks or individual products whose loan application volumes are growing fastest. Are there banks or products which\n",
    "lose attractness to the customers?\n",
    "- Among the banks who sell similar loan products, any pattern on the loan popularities and approval rates? \n",
    "- Different loan products potentially can attract different types of customers. Please analyze the user profiles of \n",
    "different loan products. Please provide an in-depth analysis on how different types of product may attract different types of users.\n",
    "Notice that the grouping of product types or user types are subject to your own research."
   ]
  },
  {
   "cell_type": "markdown",
   "metadata": {
    "collapsed": true
   },
   "source": [
    "### DA Question 4: Identify the driving factors of higher approval rates\n",
    "- In this question we would like to ask, what are the key driving factors for a bank, or for a product to have higher or lower loan\n",
    "approval rate to its applicants?\n",
    "- Does a bank with a high approval rate does so with all its products, or does it discriminate among different products?\n",
    "Any rationale that you can think of?\n",
    "- Across the board, what is the main rationale for a bank to reject or approve loans. Can you use data analysis to\n",
    "identify it?\n",
    "- You can also introduce machine learning technique to gain additional insights regarding this.\n",
    "- The dataset consists of the orders, quality, product, users, where different facets of the loan applications are recorded.\n",
    "- Evaluate the online user behavior's (those **pv**) influences on the approval rates.\n",
    "- Evaluate the user credit quality (including education, marriage status, credit history, income, ...) influences on the approval rates.\n",
    "- Evaluate the loan product attributes (loan term, document requirement, prepayment support ...) influence on the approval rates.\n",
    "- Evaluate the bank attributes (size/city count, applicant counts, product count, weighted average loan term) on the bank (or the bank's products)\n",
    " approval rates.                       \n",
    "- Among all these factors, which are more important in the classification task of approval outcomes? You could use\n",
    "$\\chi^2$ test or machine learning based feature-importance to gain insights on this.                                                                                                                    "
   ]
  },
  {
   "cell_type": "markdown",
   "metadata": {},
   "source": [
    "### Step 3 ML Project Ideas\n",
    "- In this session, we propose several machine learning related project ideas for your team to work on.\n",
    "- Both supervised and un-supervised learning techniques can be deployed. \n",
    "- ${\\bf Sampling}$: To reduce the time of trials and errors, you may choose to sample your data (say $10\\%$) at the earlier stage before\n",
    "training on the full data.\n",
    "- To reduce the sampling biases across time and results, please stratify-down-sampling using the approval flags and \n",
    "weekly/monthly time-intervals."
   ]
  },
  {
   "cell_type": "markdown",
   "metadata": {},
   "source": [
    "### ML Project Idea 1: Predict Loan Approvals with Imbalanced Classification\n",
    "\n",
    "-  This is the most apparent project. Use **order_train.txt** and all the side information to train a classification model to predict the approvals/rejections of the bank loans.\n",
    "-  As different banks have different approval rates, this is an imbalanced classification problem. Try different techniques of imbalanced classification (ROC, weight adjusting, loss score, up or down sampling, or even SMOTE, ....), \n",
    "$F_1$ measure, to tackle the imbalance problem. Discuss the pros and cons of each approach.\n",
    "-  Strong data analysis would provide you the necessary insights to generate new features.\n",
    "-  Run extensive grid-searchs to tune your model. Try different models and compare their performance.\n",
    "- Perform **partial dependence plot** (PDP) on your features. You may use **PDPbox** package \n",
    "(read https://towardsdatascience.com/introducing-pdpbox-2aa820afd312) instead of **sklearn's partial dependence plot** facility.\n",
    "- Use **sklearn** pipeline approach to automate your processes if possible.\n",
    "- To perform dimensionality reduction on the categorical data, you may try **MCA** (multiple correspondence analysis) by using the prince package https://pypi.org/project/prince/#multiple-correspondence-analysis-mca.\n",
    "- To visualize the distribution of the loan features, you may employ **PCA**, **MCA** and then **t-SNE** for a 2D visualization. \n",
    "-  Build probability models to model the loan approval probabilities and study their variations \n",
    "-  Optional: **streaming data classification problem**. Because time appears in the dataset, your team may sort the data as a time data stream. Train your classifier to handle a stream of loan applications in monthly batches.\n",
    "    By this I mean segmenting the data into buckets **YYYYM1**, **YYYYM2**, .... and train/update your models monthly. \n",
    "- If you decide to tackle the **data streaming** problem, the **online** learning paradigm could be very useful to you.\n",
    "- Either you can store your data in tables of a relational database and query the data sequentially, or you can\n",
    "store the data in flat files indexed by dates (months)."
   ]
  },
  {
   "cell_type": "markdown",
   "metadata": {},
   "source": [
    "### ML Project Idea 3: Building a Recommendation System\n",
    "- The **order_train.txt** encodes the interaction between the different users and different products.\n",
    "- Given that there are $130K+$ distinct users and $12K+$ products, the information can be used to build a product recommender for the customers.\n",
    "- There are several approaches to build a recommender.\n",
    "- Given that the same user seldom applies for many loans, it is vital to use the loan application info from the other 'similar' users.\n",
    "Use cluster analysis to study 'similar' users and use it for recommendations.\n",
    "- The indicator matrix of user-product pairs, where the entry of the indicator matrix at (user, product) is 1 if the user has applied for \n",
    "the product. The value is zero otherwise. A well known approach of **matrix factorization** can be used to factor the\n",
    "indicator matrix. Some models (like https://turi.com/products/create/docs/graphlab.toolkits.recommender.html) even would allow using side user/product attributes.\n",
    "- Another variant of matrix factorization technique is **NMF** (non-negative matrix factorization). \n",
    "Your team can use **sklearn**'s version of **NMF** to study recommendation problem.\n",
    "- Another idea to combine clustering technique with **matrix factorization** is to use a suitable **clustering** technique to lump the users (or the products) and build a recommender on the reduced space.\n",
    "\n"
   ]
  },
  {
   "cell_type": "code",
   "execution_count": null,
   "metadata": {
    "collapsed": true
   },
   "outputs": [],
   "source": []
  }
 ],
 "metadata": {
  "kernelspec": {
   "display_name": "Python 3",
   "language": "python",
   "name": "python3"
  },
  "language_info": {
   "codemirror_mode": {
    "name": "ipython",
    "version": 3
   },
   "file_extension": ".py",
   "mimetype": "text/x-python",
   "name": "python",
   "nbconvert_exporter": "python",
   "pygments_lexer": "ipython3",
   "version": "3.6.4"
  }
 },
 "nbformat": 4,
 "nbformat_minor": 2
}
